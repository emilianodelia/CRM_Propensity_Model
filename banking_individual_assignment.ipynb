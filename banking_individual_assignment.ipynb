{
 "cells": [
  {
   "cell_type": "markdown",
   "id": "f1a0d646-fb37-4d8a-b9f4-1b46b788eac6",
   "metadata": {},
   "source": [
    "# Emiliano D'Elia Cerchi"
   ]
  },
  {
   "cell_type": "code",
   "execution_count": 76,
   "id": "ef122311-25a7-4455-b296-6e689753b805",
   "metadata": {},
   "outputs": [],
   "source": [
    "import pandas as pd \n",
    "import numpy as np \n",
    "import seaborn as sns \n",
    "import matplotlib.pyplot as plt\n",
    "\n",
    "import warnings\n",
    "warnings.filterwarnings(\"ignore\")\n",
    "sns.set_style('whitegrid')"
   ]
  },
  {
   "cell_type": "markdown",
   "id": "f71fd919-412d-4113-a1f8-6c0645014370",
   "metadata": {},
   "source": [
    "# Data Dictionary\n",
    "\n",
    "| Name | Format | Description|\n",
    "|---|---|---|\n",
    "| cnae3 | Char(3) | Code of the CNAE (Spanish national classification of economic activities)|\n",
    "| dcnae_agr3 | Char(150) | Description for CNAE (in Spanish)|\n",
    "| provincia | Char(2) | Code of the Spanish province where the company is based|\n",
    "| anio | Numeric | Company's Foundation Year|\n",
    "| gradvinc | Numeric | Engagement measure of the company with the bank (the less the value the more engaged the company is)|\n",
    "| nopotra | Numeric | Number of services (payments, colletions, etc.) the company has contracted with the bank|\n",
    "| noprovin | Numeric | Number of products the company has contracted with the bank|\n",
    "| fact | Numeric|  Amount of money the cards emited by the bank wasted in the POS owned by the company\n",
    "| volneg | Numeric | Amount of business the company has in the bank|\n",
    "| num_bancos | Numeric | Number of banks where the company owns a POS service|\n",
    "| pmc | Numeric | Average collection period| \n",
    "| target Binary (0/1) | --- |  This is the value to predict, it takes the values (1: the company contracted the POS in the following 3 months, 0: the company did not contracted the POS in that period)|"
   ]
  },
  {
   "cell_type": "markdown",
   "id": "22319d2c-eb2f-40bf-b071-b839621953b5",
   "metadata": {},
   "source": [
    "# About the data\n",
    "* Data is related to payment services provided to companines across Spain\n",
    "* Payments are great way to start having a primary banking relationships with other businesses\n",
    "* POS becomes a powerful tool to ensure a strong relationship with our SMEs customers, and they also become a powerful source of information and other services for SMEs\n",
    "* I ask you to build a model that will help the salesforce identify those customers in which they should prioritise their commercial activity in the following weeks to maximise the no of sales"
   ]
  },
  {
   "cell_type": "markdown",
   "id": "c6b1e86d-56fb-434b-a08c-2b5b66bb9659",
   "metadata": {},
   "source": [
    "# __Section 1:__ Understanding the Data\n",
    "* How does the target variable behave when compared to other variables?\n",
    "* Are there any interesting interactions between variables?\n",
    "* What __kind__ of correlations do we have across our data?\n",
    "* Which features are correlated the most to our target feature?"
   ]
  },
  {
   "cell_type": "code",
   "execution_count": 77,
   "id": "b1532f7f-d95c-4d03-8689-3a4afe52c3b8",
   "metadata": {},
   "outputs": [],
   "source": [
    "train = pd.read_csv(\"20220512_train.txt\", sep = \";\")\n",
    "test = pd.read_csv(\"20220512_test_no_target.txt\", sep = \";\")"
   ]
  },
  {
   "cell_type": "code",
   "execution_count": 78,
   "id": "323b3e8b-9c0c-48ba-a210-880c0f6c2b47",
   "metadata": {},
   "outputs": [
    {
     "data": {
      "text/html": [
       "<div>\n",
       "<style scoped>\n",
       "    .dataframe tbody tr th:only-of-type {\n",
       "        vertical-align: middle;\n",
       "    }\n",
       "\n",
       "    .dataframe tbody tr th {\n",
       "        vertical-align: top;\n",
       "    }\n",
       "\n",
       "    .dataframe thead th {\n",
       "        text-align: right;\n",
       "    }\n",
       "</style>\n",
       "<table border=\"1\" class=\"dataframe\">\n",
       "  <thead>\n",
       "    <tr style=\"text-align: right;\">\n",
       "      <th></th>\n",
       "      <th>id</th>\n",
       "      <th>cnae3</th>\n",
       "      <th>dcnae_agr3</th>\n",
       "      <th>provincia</th>\n",
       "      <th>anio</th>\n",
       "      <th>gradvinc</th>\n",
       "      <th>noprotra</th>\n",
       "      <th>noprovin</th>\n",
       "      <th>volneg</th>\n",
       "      <th>fact</th>\n",
       "      <th>num_bancos</th>\n",
       "      <th>pmc</th>\n",
       "      <th>target</th>\n",
       "    </tr>\n",
       "  </thead>\n",
       "  <tbody>\n",
       "    <tr>\n",
       "      <th>0</th>\n",
       "      <td>616016</td>\n",
       "      <td>432</td>\n",
       "      <td>INSTALACIONES ELECTRICAS. DE FONTANERIA Y OTRA...</td>\n",
       "      <td>28</td>\n",
       "      <td>2016.0</td>\n",
       "      <td>1</td>\n",
       "      <td>4</td>\n",
       "      <td>4</td>\n",
       "      <td>86062.25</td>\n",
       "      <td>NaN</td>\n",
       "      <td>NaN</td>\n",
       "      <td>NaN</td>\n",
       "      <td>1</td>\n",
       "    </tr>\n",
       "    <tr>\n",
       "      <th>1</th>\n",
       "      <td>243724</td>\n",
       "      <td>411</td>\n",
       "      <td>PROMOCION INMOBILIARIA</td>\n",
       "      <td>28</td>\n",
       "      <td>1992.0</td>\n",
       "      <td>5</td>\n",
       "      <td>0</td>\n",
       "      <td>0</td>\n",
       "      <td>0.00</td>\n",
       "      <td>NaN</td>\n",
       "      <td>NaN</td>\n",
       "      <td>NaN</td>\n",
       "      <td>0</td>\n",
       "    </tr>\n",
       "    <tr>\n",
       "      <th>2</th>\n",
       "      <td>637325</td>\n",
       "      <td>960</td>\n",
       "      <td>OTROS SERVICIOS PERSONALES</td>\n",
       "      <td>33</td>\n",
       "      <td>2018.0</td>\n",
       "      <td>5</td>\n",
       "      <td>0</td>\n",
       "      <td>0</td>\n",
       "      <td>0.00</td>\n",
       "      <td>NaN</td>\n",
       "      <td>NaN</td>\n",
       "      <td>NaN</td>\n",
       "      <td>0</td>\n",
       "    </tr>\n",
       "    <tr>\n",
       "      <th>3</th>\n",
       "      <td>385667</td>\n",
       "      <td>432</td>\n",
       "      <td>INSTALACIONES ELECTRICAS. DE FONTANERIA Y OTRA...</td>\n",
       "      <td>35</td>\n",
       "      <td>2004.0</td>\n",
       "      <td>1</td>\n",
       "      <td>4</td>\n",
       "      <td>4</td>\n",
       "      <td>174966.92</td>\n",
       "      <td>NaN</td>\n",
       "      <td>NaN</td>\n",
       "      <td>NaN</td>\n",
       "      <td>0</td>\n",
       "    </tr>\n",
       "    <tr>\n",
       "      <th>4</th>\n",
       "      <td>605174</td>\n",
       "      <td>466</td>\n",
       "      <td>COMERCIO AL POR MAYOR DE OTRA MAQUINARIA. EQUI...</td>\n",
       "      <td>50</td>\n",
       "      <td>2013.0</td>\n",
       "      <td>5</td>\n",
       "      <td>0</td>\n",
       "      <td>0</td>\n",
       "      <td>0.00</td>\n",
       "      <td>NaN</td>\n",
       "      <td>NaN</td>\n",
       "      <td>75.73</td>\n",
       "      <td>0</td>\n",
       "    </tr>\n",
       "  </tbody>\n",
       "</table>\n",
       "</div>"
      ],
      "text/plain": [
       "       id  cnae3                                         dcnae_agr3 provincia  \\\n",
       "0  616016    432  INSTALACIONES ELECTRICAS. DE FONTANERIA Y OTRA...        28   \n",
       "1  243724    411                             PROMOCION INMOBILIARIA        28   \n",
       "2  637325    960                         OTROS SERVICIOS PERSONALES        33   \n",
       "3  385667    432  INSTALACIONES ELECTRICAS. DE FONTANERIA Y OTRA...        35   \n",
       "4  605174    466  COMERCIO AL POR MAYOR DE OTRA MAQUINARIA. EQUI...        50   \n",
       "\n",
       "     anio  gradvinc  noprotra  noprovin     volneg  fact  num_bancos    pmc  \\\n",
       "0  2016.0         1         4         4   86062.25   NaN         NaN    NaN   \n",
       "1  1992.0         5         0         0       0.00   NaN         NaN    NaN   \n",
       "2  2018.0         5         0         0       0.00   NaN         NaN    NaN   \n",
       "3  2004.0         1         4         4  174966.92   NaN         NaN    NaN   \n",
       "4  2013.0         5         0         0       0.00   NaN         NaN  75.73   \n",
       "\n",
       "   target  \n",
       "0       1  \n",
       "1       0  \n",
       "2       0  \n",
       "3       0  \n",
       "4       0  "
      ]
     },
     "execution_count": 78,
     "metadata": {},
     "output_type": "execute_result"
    }
   ],
   "source": [
    "train.head()"
   ]
  },
  {
   "cell_type": "code",
   "execution_count": 79,
   "id": "781f234e-af88-4d98-b2ab-79f87c2000e5",
   "metadata": {},
   "outputs": [
    {
     "data": {
      "text/plain": [
       "(24921, 13)"
      ]
     },
     "execution_count": 79,
     "metadata": {},
     "output_type": "execute_result"
    }
   ],
   "source": [
    "train.shape"
   ]
  },
  {
   "cell_type": "code",
   "execution_count": 80,
   "id": "3edd6eb6-e791-48cb-9319-8d5d704e7e1f",
   "metadata": {},
   "outputs": [
    {
     "name": "stdout",
     "output_type": "stream",
     "text": [
      "<class 'pandas.core.frame.DataFrame'>\n",
      "RangeIndex: 24921 entries, 0 to 24920\n",
      "Data columns (total 13 columns):\n",
      " #   Column      Non-Null Count  Dtype  \n",
      "---  ------      --------------  -----  \n",
      " 0   id          24921 non-null  int64  \n",
      " 1   cnae3       24921 non-null  int64  \n",
      " 2   dcnae_agr3  24914 non-null  object \n",
      " 3   provincia   24718 non-null  object \n",
      " 4   anio        24813 non-null  float64\n",
      " 5   gradvinc    24921 non-null  int64  \n",
      " 6   noprotra    24921 non-null  int64  \n",
      " 7   noprovin    24921 non-null  int64  \n",
      " 8   volneg      24921 non-null  float64\n",
      " 9   fact        3614 non-null   float64\n",
      " 10  num_bancos  3614 non-null   float64\n",
      " 11  pmc         9095 non-null   float64\n",
      " 12  target      24921 non-null  int64  \n",
      "dtypes: float64(5), int64(6), object(2)\n",
      "memory usage: 2.5+ MB\n"
     ]
    }
   ],
   "source": [
    "train.info()"
   ]
  },
  {
   "cell_type": "code",
   "execution_count": 81,
   "id": "ba52fd8f-2692-4d26-8ede-f1d2cdf5589b",
   "metadata": {},
   "outputs": [
    {
     "data": {
      "text/plain": [
       "id                0\n",
       "cnae3             0\n",
       "dcnae_agr3        7\n",
       "provincia       203\n",
       "anio            108\n",
       "gradvinc          0\n",
       "noprotra          0\n",
       "noprovin          0\n",
       "volneg            0\n",
       "fact          21307\n",
       "num_bancos    21307\n",
       "pmc           15826\n",
       "target            0\n",
       "dtype: int64"
      ]
     },
     "execution_count": 81,
     "metadata": {},
     "output_type": "execute_result"
    }
   ],
   "source": [
    "train.isnull().sum() #we have lots of null values in some features"
   ]
  },
  {
   "cell_type": "code",
   "execution_count": 82,
   "id": "58f628cf-eb2a-49a6-aa93-da1fd7478320",
   "metadata": {},
   "outputs": [
    {
     "data": {
      "text/plain": [
       "False    0.991854\n",
       "True     0.008146\n",
       "Name: provincia, dtype: float64"
      ]
     },
     "execution_count": 82,
     "metadata": {},
     "output_type": "execute_result"
    }
   ],
   "source": [
    "#proportion of null values\n",
    "null_provincias = train['provincia'].isnull()\n",
    "null_provincias.value_counts(normalize=True)"
   ]
  },
  {
   "cell_type": "code",
   "execution_count": 83,
   "id": "6daa8f4a-3a34-4d3e-bc39-dbdf148dc6ea",
   "metadata": {},
   "outputs": [
    {
     "data": {
      "text/plain": [
       "False    0.995666\n",
       "True     0.004334\n",
       "Name: anio, dtype: float64"
      ]
     },
     "execution_count": 83,
     "metadata": {},
     "output_type": "execute_result"
    }
   ],
   "source": [
    "#proportion of null values\n",
    "null_anio = train['anio'].isnull()\n",
    "null_anio.value_counts(normalize=True)"
   ]
  },
  {
   "cell_type": "code",
   "execution_count": 84,
   "id": "58e862ae-842a-47a3-b3ef-98ad9dd7a34a",
   "metadata": {},
   "outputs": [
    {
     "data": {
      "text/plain": [
       "True     0.854982\n",
       "False    0.145018\n",
       "Name: fact, dtype: float64"
      ]
     },
     "execution_count": 84,
     "metadata": {},
     "output_type": "execute_result"
    }
   ],
   "source": [
    "#checking out proportion of null values\n",
    "null_fact = train['fact'].isnull()\n",
    "null_fact.value_counts(normalize=True)"
   ]
  },
  {
   "cell_type": "code",
   "execution_count": 85,
   "id": "84843324-9704-4645-85ed-01374f8fea36",
   "metadata": {},
   "outputs": [
    {
     "data": {
      "text/plain": [
       "True     0.854982\n",
       "False    0.145018\n",
       "Name: num_bancos, dtype: float64"
      ]
     },
     "execution_count": 85,
     "metadata": {},
     "output_type": "execute_result"
    }
   ],
   "source": [
    "#checking out proportion of null values\n",
    "null_bancos = train['num_bancos'].isnull()\n",
    "null_bancos.value_counts(normalize=True)"
   ]
  },
  {
   "cell_type": "code",
   "execution_count": 86,
   "id": "e78bb177-72e1-47fe-adc8-575891a74dbd",
   "metadata": {},
   "outputs": [
    {
     "data": {
      "text/plain": [
       "True     0.635047\n",
       "False    0.364953\n",
       "Name: pmc, dtype: float64"
      ]
     },
     "execution_count": 86,
     "metadata": {},
     "output_type": "execute_result"
    }
   ],
   "source": [
    "#checking out proportion of null values\n",
    "null_pmc = train['pmc'].isnull()\n",
    "null_pmc.value_counts(normalize=True)"
   ]
  },
  {
   "cell_type": "markdown",
   "id": "3a5435d5-7a85-4b0d-a25d-42ef044f442f",
   "metadata": {},
   "source": [
    "## Observations\n",
    "* `fact` is ~85% null values \n",
    "* `num_bancos` is ~85% null values\n",
    "* `pmc` is ~65% null values\n",
    "* A reasonable strategy would be just to drop these features since they add no valuable information to the analysis"
   ]
  },
  {
   "cell_type": "markdown",
   "id": "41daf062-cd7d-42a8-a3ed-e3954b0ce366",
   "metadata": {},
   "source": [
    "# __Section 2:__ Formatting"
   ]
  },
  {
   "cell_type": "code",
   "execution_count": 87,
   "id": "8952b22e-7bb3-4abc-befa-74bd0a06d0bb",
   "metadata": {},
   "outputs": [],
   "source": [
    "#changing column names to make features more readable\n",
    "train.columns = train.columns.str.replace(\"noprotra\", \"no_of_services\") #no of services the company has contracted from the bank\n",
    "train.columns = train.columns.str.replace(\"noprovin\", \"no_of_products\") #no of products the company has contracted from the bank\n",
    "train.columns = train.columns.str.replace(\"volneg\", \"amount_in_bank\") #amount of business the company has in the bank\n",
    "train.columns = train.columns.str.replace(\"pmc\", \"avg_collection_period\") \n",
    "train.columns = train.columns.str.replace(\"anio\", \"foundation_year\") \n",
    "train.columns = train.columns.str.replace(\"gradvinc\", \"engagement_metric\") \n",
    "train.columns = train.columns.str.replace(\"dcnae_agr3\", \"company_type\") \n",
    "\n",
    "#applying the same formatting to test_data\n",
    "#changing column names to make features more readable\n",
    "test.columns = test.columns.str.replace(\"noprotra\", \"no_of_services\") #no of services the company has contracted from the bank\n",
    "test.columns = test.columns.str.replace(\"noprovin\", \"no_of_products\") #no of products the company has contracted from the bank\n",
    "test.columns = test.columns.str.replace(\"volneg\", \"amount_in_bank\") #amount of business the company has in the bank\n",
    "test.columns = test.columns.str.replace(\"pmc\", \"avg_collection_period\") \n",
    "test.columns = test.columns.str.replace(\"anio\", \"foundation_year\") \n",
    "test.columns = test.columns.str.replace(\"gradvinc\", \"engagement_metric\") \n",
    "test.columns = test.columns.str.replace(\"dcnae_agr3\", \"company_type\") "
   ]
  },
  {
   "cell_type": "markdown",
   "id": "6cb67b5d-a04a-4f54-9d4e-9b4f90e8d12f",
   "metadata": {},
   "source": [
    "# Updated Data Dictionary\n",
    "\n",
    "| Name | Format | Description|\n",
    "|---|---|---|\n",
    "| cnae3 | Char(3) | Code of the CNAE (Spanish national classification of economic activities)|\n",
    "| company_type | Char(150) | Description for CNAE (in Spanish)|\n",
    "| provincia | Char(2) | Code of the Spanish province where the company is based|\n",
    "| foundation_year | Numeric | Company's Foundation Year|\n",
    "| engagement_metric | Numeric | Engagement measure of the company with the bank (the less the value the more engaged the company is)|\n",
    "| no_of_services | Numeric | Number of services (payments, colletions, etc.) the company has contracted with the bank|\n",
    "| no_of_products | Numeric | Number of products the company has contracted with the bank|\n",
    "| fact | Numeric|  Amount of money the cards emited by the bank wasted in the POS owned by the company\n",
    "| amount | Numeric | Amount of business the company has in the bank|\n",
    "| num_bancos | Numeric | Number of banks where the company owns a POS service|\n",
    "| avg_collection_period | Numeric | Average collection period| \n",
    "| target Binary (0/1) | --- |  This is the value to predict, it takes the values (1: the company contracted the POS in the following 3 months, 0: the company did not contracted the POS in that period)|"
   ]
  },
  {
   "cell_type": "code",
   "execution_count": 88,
   "id": "0c07eb5c-5559-4004-8690-2508e1a2bec9",
   "metadata": {},
   "outputs": [
    {
     "data": {
      "text/html": [
       "<style type=\"text/css\">\n",
       "#T_9a550_row0_col0, #T_9a550_row0_col1, #T_9a550_row0_col2, #T_9a550_row0_col3, #T_9a550_row0_col4, #T_9a550_row0_col5, #T_9a550_row0_col6, #T_9a550_row0_col7, #T_9a550_row0_col8, #T_9a550_row0_col9, #T_9a550_row0_col10, #T_9a550_row1_col1, #T_9a550_row1_col2, #T_9a550_row1_col3, #T_9a550_row1_col4, #T_9a550_row1_col5, #T_9a550_row1_col6, #T_9a550_row1_col7, #T_9a550_row1_col8, #T_9a550_row1_col9, #T_9a550_row1_col10, #T_9a550_row2_col2, #T_9a550_row2_col3, #T_9a550_row2_col4, #T_9a550_row2_col5, #T_9a550_row2_col6, #T_9a550_row2_col7, #T_9a550_row2_col8, #T_9a550_row2_col9, #T_9a550_row2_col10, #T_9a550_row3_col3, #T_9a550_row3_col4, #T_9a550_row3_col5, #T_9a550_row3_col6, #T_9a550_row3_col7, #T_9a550_row3_col8, #T_9a550_row3_col9, #T_9a550_row3_col10, #T_9a550_row4_col4, #T_9a550_row4_col5, #T_9a550_row4_col6, #T_9a550_row4_col7, #T_9a550_row4_col8, #T_9a550_row4_col9, #T_9a550_row4_col10, #T_9a550_row5_col5, #T_9a550_row5_col6, #T_9a550_row5_col7, #T_9a550_row5_col8, #T_9a550_row5_col9, #T_9a550_row5_col10, #T_9a550_row6_col6, #T_9a550_row6_col7, #T_9a550_row6_col8, #T_9a550_row6_col9, #T_9a550_row6_col10, #T_9a550_row7_col7, #T_9a550_row7_col8, #T_9a550_row7_col9, #T_9a550_row7_col10, #T_9a550_row8_col8, #T_9a550_row8_col9, #T_9a550_row8_col10, #T_9a550_row9_col9, #T_9a550_row9_col10, #T_9a550_row10_col10 {\n",
       "  background-color: #000000;\n",
       "  color: #f1f1f1;\n",
       "  background-color: #f1f1f1;\n",
       "}\n",
       "#T_9a550_row1_col0, #T_9a550_row4_col0 {\n",
       "  background-color: #ead4c8;\n",
       "  color: #000000;\n",
       "}\n",
       "#T_9a550_row2_col0 {\n",
       "  background-color: #ee8468;\n",
       "  color: #f1f1f1;\n",
       "}\n",
       "#T_9a550_row2_col1, #T_9a550_row7_col6 {\n",
       "  background-color: #edd1c2;\n",
       "  color: #000000;\n",
       "}\n",
       "#T_9a550_row3_col0 {\n",
       "  background-color: #c4d5f3;\n",
       "  color: #000000;\n",
       "}\n",
       "#T_9a550_row3_col1, #T_9a550_row8_col1 {\n",
       "  background-color: #dfdbd9;\n",
       "  color: #000000;\n",
       "}\n",
       "#T_9a550_row3_col2, #T_9a550_row5_col2 {\n",
       "  background-color: #d4dbe6;\n",
       "  color: #000000;\n",
       "}\n",
       "#T_9a550_row4_col1 {\n",
       "  background-color: #dadce0;\n",
       "  color: #000000;\n",
       "}\n",
       "#T_9a550_row4_col2 {\n",
       "  background-color: #e2dad5;\n",
       "  color: #000000;\n",
       "}\n",
       "#T_9a550_row4_col3 {\n",
       "  background-color: #465ecf;\n",
       "  color: #f1f1f1;\n",
       "}\n",
       "#T_9a550_row5_col0, #T_9a550_row9_col4, #T_9a550_row9_col5, #T_9a550_row9_col7 {\n",
       "  background-color: #dbdcde;\n",
       "  color: #000000;\n",
       "}\n",
       "#T_9a550_row5_col1 {\n",
       "  background-color: #cfdaea;\n",
       "  color: #000000;\n",
       "}\n",
       "#T_9a550_row5_col3 {\n",
       "  background-color: #7a9df8;\n",
       "  color: #f1f1f1;\n",
       "}\n",
       "#T_9a550_row5_col4 {\n",
       "  background-color: #ec8165;\n",
       "  color: #f1f1f1;\n",
       "}\n",
       "#T_9a550_row6_col0, #T_9a550_row9_col8 {\n",
       "  background-color: #d7dce3;\n",
       "  color: #000000;\n",
       "}\n",
       "#T_9a550_row6_col1 {\n",
       "  background-color: #d9dce1;\n",
       "  color: #000000;\n",
       "}\n",
       "#T_9a550_row6_col2, #T_9a550_row7_col3 {\n",
       "  background-color: #d6dce4;\n",
       "  color: #000000;\n",
       "}\n",
       "#T_9a550_row6_col3 {\n",
       "  background-color: #cad8ef;\n",
       "  color: #000000;\n",
       "}\n",
       "#T_9a550_row6_col4 {\n",
       "  background-color: #f0cdbb;\n",
       "  color: #000000;\n",
       "}\n",
       "#T_9a550_row6_col5 {\n",
       "  background-color: #f3c7b1;\n",
       "  color: #000000;\n",
       "}\n",
       "#T_9a550_row7_col0 {\n",
       "  background-color: #d3dbe7;\n",
       "  color: #000000;\n",
       "}\n",
       "#T_9a550_row7_col1, #T_9a550_row10_col6 {\n",
       "  background-color: #e0dbd8;\n",
       "  color: #000000;\n",
       "}\n",
       "#T_9a550_row7_col2 {\n",
       "  background-color: #d5dbe5;\n",
       "  color: #000000;\n",
       "}\n",
       "#T_9a550_row7_col4, #T_9a550_row10_col2 {\n",
       "  background-color: #e8d6cc;\n",
       "  color: #000000;\n",
       "}\n",
       "#T_9a550_row7_col5, #T_9a550_row8_col0 {\n",
       "  background-color: #ebd3c6;\n",
       "  color: #000000;\n",
       "}\n",
       "#T_9a550_row8_col2 {\n",
       "  background-color: #e1dad6;\n",
       "  color: #000000;\n",
       "}\n",
       "#T_9a550_row8_col3 {\n",
       "  background-color: #adc9fd;\n",
       "  color: #000000;\n",
       "}\n",
       "#T_9a550_row8_col4 {\n",
       "  background-color: #f6bda2;\n",
       "  color: #000000;\n",
       "}\n",
       "#T_9a550_row8_col5 {\n",
       "  background-color: #f4c6af;\n",
       "  color: #000000;\n",
       "}\n",
       "#T_9a550_row8_col6 {\n",
       "  background-color: #e5d8d1;\n",
       "  color: #000000;\n",
       "}\n",
       "#T_9a550_row8_col7 {\n",
       "  background-color: #eed0c0;\n",
       "  color: #000000;\n",
       "}\n",
       "#T_9a550_row9_col0, #T_9a550_row9_col1, #T_9a550_row9_col6, #T_9a550_row10_col7, #T_9a550_row10_col9 {\n",
       "  background-color: #dcdddd;\n",
       "  color: #000000;\n",
       "}\n",
       "#T_9a550_row9_col2 {\n",
       "  background-color: #dddcdc;\n",
       "  color: #000000;\n",
       "}\n",
       "#T_9a550_row9_col3, #T_9a550_row10_col1 {\n",
       "  background-color: #dedcdb;\n",
       "  color: #000000;\n",
       "}\n",
       "#T_9a550_row10_col0 {\n",
       "  background-color: #efcfbf;\n",
       "  color: #000000;\n",
       "}\n",
       "#T_9a550_row10_col3 {\n",
       "  background-color: #a6c4fe;\n",
       "  color: #000000;\n",
       "}\n",
       "#T_9a550_row10_col4 {\n",
       "  background-color: #f7b89c;\n",
       "  color: #000000;\n",
       "}\n",
       "#T_9a550_row10_col5 {\n",
       "  background-color: #f5c4ac;\n",
       "  color: #000000;\n",
       "}\n",
       "#T_9a550_row10_col8 {\n",
       "  background-color: #f5c2aa;\n",
       "  color: #000000;\n",
       "}\n",
       "</style>\n",
       "<table id=\"T_9a550\">\n",
       "  <thead>\n",
       "    <tr>\n",
       "      <th class=\"blank level0\" >&nbsp;</th>\n",
       "      <th id=\"T_9a550_level0_col0\" class=\"col_heading level0 col0\" >id</th>\n",
       "      <th id=\"T_9a550_level0_col1\" class=\"col_heading level0 col1\" >cnae3</th>\n",
       "      <th id=\"T_9a550_level0_col2\" class=\"col_heading level0 col2\" >foundation_year</th>\n",
       "      <th id=\"T_9a550_level0_col3\" class=\"col_heading level0 col3\" >engagement_metric</th>\n",
       "      <th id=\"T_9a550_level0_col4\" class=\"col_heading level0 col4\" >no_of_services</th>\n",
       "      <th id=\"T_9a550_level0_col5\" class=\"col_heading level0 col5\" >no_of_products</th>\n",
       "      <th id=\"T_9a550_level0_col6\" class=\"col_heading level0 col6\" >amount_in_bank</th>\n",
       "      <th id=\"T_9a550_level0_col7\" class=\"col_heading level0 col7\" >fact</th>\n",
       "      <th id=\"T_9a550_level0_col8\" class=\"col_heading level0 col8\" >num_bancos</th>\n",
       "      <th id=\"T_9a550_level0_col9\" class=\"col_heading level0 col9\" >avg_collection_period</th>\n",
       "      <th id=\"T_9a550_level0_col10\" class=\"col_heading level0 col10\" >target</th>\n",
       "    </tr>\n",
       "  </thead>\n",
       "  <tbody>\n",
       "    <tr>\n",
       "      <th id=\"T_9a550_level0_row0\" class=\"row_heading level0 row0\" >id</th>\n",
       "      <td id=\"T_9a550_row0_col0\" class=\"data row0 col0\" >nan</td>\n",
       "      <td id=\"T_9a550_row0_col1\" class=\"data row0 col1\" >nan</td>\n",
       "      <td id=\"T_9a550_row0_col2\" class=\"data row0 col2\" >nan</td>\n",
       "      <td id=\"T_9a550_row0_col3\" class=\"data row0 col3\" >nan</td>\n",
       "      <td id=\"T_9a550_row0_col4\" class=\"data row0 col4\" >nan</td>\n",
       "      <td id=\"T_9a550_row0_col5\" class=\"data row0 col5\" >nan</td>\n",
       "      <td id=\"T_9a550_row0_col6\" class=\"data row0 col6\" >nan</td>\n",
       "      <td id=\"T_9a550_row0_col7\" class=\"data row0 col7\" >nan</td>\n",
       "      <td id=\"T_9a550_row0_col8\" class=\"data row0 col8\" >nan</td>\n",
       "      <td id=\"T_9a550_row0_col9\" class=\"data row0 col9\" >nan</td>\n",
       "      <td id=\"T_9a550_row0_col10\" class=\"data row0 col10\" >nan</td>\n",
       "    </tr>\n",
       "    <tr>\n",
       "      <th id=\"T_9a550_level0_row1\" class=\"row_heading level0 row1\" >cnae3</th>\n",
       "      <td id=\"T_9a550_row1_col0\" class=\"data row1 col0\" >0.11</td>\n",
       "      <td id=\"T_9a550_row1_col1\" class=\"data row1 col1\" >nan</td>\n",
       "      <td id=\"T_9a550_row1_col2\" class=\"data row1 col2\" >nan</td>\n",
       "      <td id=\"T_9a550_row1_col3\" class=\"data row1 col3\" >nan</td>\n",
       "      <td id=\"T_9a550_row1_col4\" class=\"data row1 col4\" >nan</td>\n",
       "      <td id=\"T_9a550_row1_col5\" class=\"data row1 col5\" >nan</td>\n",
       "      <td id=\"T_9a550_row1_col6\" class=\"data row1 col6\" >nan</td>\n",
       "      <td id=\"T_9a550_row1_col7\" class=\"data row1 col7\" >nan</td>\n",
       "      <td id=\"T_9a550_row1_col8\" class=\"data row1 col8\" >nan</td>\n",
       "      <td id=\"T_9a550_row1_col9\" class=\"data row1 col9\" >nan</td>\n",
       "      <td id=\"T_9a550_row1_col10\" class=\"data row1 col10\" >nan</td>\n",
       "    </tr>\n",
       "    <tr>\n",
       "      <th id=\"T_9a550_level0_row2\" class=\"row_heading level0 row2\" >foundation_year</th>\n",
       "      <td id=\"T_9a550_row2_col0\" class=\"data row2 col0\" >0.59</td>\n",
       "      <td id=\"T_9a550_row2_col1\" class=\"data row2 col1\" >0.14</td>\n",
       "      <td id=\"T_9a550_row2_col2\" class=\"data row2 col2\" >nan</td>\n",
       "      <td id=\"T_9a550_row2_col3\" class=\"data row2 col3\" >nan</td>\n",
       "      <td id=\"T_9a550_row2_col4\" class=\"data row2 col4\" >nan</td>\n",
       "      <td id=\"T_9a550_row2_col5\" class=\"data row2 col5\" >nan</td>\n",
       "      <td id=\"T_9a550_row2_col6\" class=\"data row2 col6\" >nan</td>\n",
       "      <td id=\"T_9a550_row2_col7\" class=\"data row2 col7\" >nan</td>\n",
       "      <td id=\"T_9a550_row2_col8\" class=\"data row2 col8\" >nan</td>\n",
       "      <td id=\"T_9a550_row2_col9\" class=\"data row2 col9\" >nan</td>\n",
       "      <td id=\"T_9a550_row2_col10\" class=\"data row2 col10\" >nan</td>\n",
       "    </tr>\n",
       "    <tr>\n",
       "      <th id=\"T_9a550_level0_row3\" class=\"row_heading level0 row3\" >engagement_metric</th>\n",
       "      <td id=\"T_9a550_row3_col0\" class=\"data row3 col0\" >-0.17</td>\n",
       "      <td id=\"T_9a550_row3_col1\" class=\"data row3 col1\" >0.02</td>\n",
       "      <td id=\"T_9a550_row3_col2\" class=\"data row3 col2\" >-0.07</td>\n",
       "      <td id=\"T_9a550_row3_col3\" class=\"data row3 col3\" >nan</td>\n",
       "      <td id=\"T_9a550_row3_col4\" class=\"data row3 col4\" >nan</td>\n",
       "      <td id=\"T_9a550_row3_col5\" class=\"data row3 col5\" >nan</td>\n",
       "      <td id=\"T_9a550_row3_col6\" class=\"data row3 col6\" >nan</td>\n",
       "      <td id=\"T_9a550_row3_col7\" class=\"data row3 col7\" >nan</td>\n",
       "      <td id=\"T_9a550_row3_col8\" class=\"data row3 col8\" >nan</td>\n",
       "      <td id=\"T_9a550_row3_col9\" class=\"data row3 col9\" >nan</td>\n",
       "      <td id=\"T_9a550_row3_col10\" class=\"data row3 col10\" >nan</td>\n",
       "    </tr>\n",
       "    <tr>\n",
       "      <th id=\"T_9a550_level0_row4\" class=\"row_heading level0 row4\" >no_of_services</th>\n",
       "      <td id=\"T_9a550_row4_col0\" class=\"data row4 col0\" >0.11</td>\n",
       "      <td id=\"T_9a550_row4_col1\" class=\"data row4 col1\" >-0.02</td>\n",
       "      <td id=\"T_9a550_row4_col2\" class=\"data row4 col2\" >0.04</td>\n",
       "      <td id=\"T_9a550_row4_col3\" class=\"data row4 col3\" >-0.92</td>\n",
       "      <td id=\"T_9a550_row4_col4\" class=\"data row4 col4\" >nan</td>\n",
       "      <td id=\"T_9a550_row4_col5\" class=\"data row4 col5\" >nan</td>\n",
       "      <td id=\"T_9a550_row4_col6\" class=\"data row4 col6\" >nan</td>\n",
       "      <td id=\"T_9a550_row4_col7\" class=\"data row4 col7\" >nan</td>\n",
       "      <td id=\"T_9a550_row4_col8\" class=\"data row4 col8\" >nan</td>\n",
       "      <td id=\"T_9a550_row4_col9\" class=\"data row4 col9\" >nan</td>\n",
       "      <td id=\"T_9a550_row4_col10\" class=\"data row4 col10\" >nan</td>\n",
       "    </tr>\n",
       "    <tr>\n",
       "      <th id=\"T_9a550_level0_row5\" class=\"row_heading level0 row5\" >no_of_products</th>\n",
       "      <td id=\"T_9a550_row5_col0\" class=\"data row5 col0\" >-0.01</td>\n",
       "      <td id=\"T_9a550_row5_col1\" class=\"data row5 col1\" >-0.10</td>\n",
       "      <td id=\"T_9a550_row5_col2\" class=\"data row5 col2\" >-0.07</td>\n",
       "      <td id=\"T_9a550_row5_col3\" class=\"data row5 col3\" >-0.60</td>\n",
       "      <td id=\"T_9a550_row5_col4\" class=\"data row5 col4\" >0.61</td>\n",
       "      <td id=\"T_9a550_row5_col5\" class=\"data row5 col5\" >nan</td>\n",
       "      <td id=\"T_9a550_row5_col6\" class=\"data row5 col6\" >nan</td>\n",
       "      <td id=\"T_9a550_row5_col7\" class=\"data row5 col7\" >nan</td>\n",
       "      <td id=\"T_9a550_row5_col8\" class=\"data row5 col8\" >nan</td>\n",
       "      <td id=\"T_9a550_row5_col9\" class=\"data row5 col9\" >nan</td>\n",
       "      <td id=\"T_9a550_row5_col10\" class=\"data row5 col10\" >nan</td>\n",
       "    </tr>\n",
       "    <tr>\n",
       "      <th id=\"T_9a550_level0_row6\" class=\"row_heading level0 row6\" >amount_in_bank</th>\n",
       "      <td id=\"T_9a550_row6_col0\" class=\"data row6 col0\" >-0.04</td>\n",
       "      <td id=\"T_9a550_row6_col1\" class=\"data row6 col1\" >-0.03</td>\n",
       "      <td id=\"T_9a550_row6_col2\" class=\"data row6 col2\" >-0.05</td>\n",
       "      <td id=\"T_9a550_row6_col3\" class=\"data row6 col3\" >-0.14</td>\n",
       "      <td id=\"T_9a550_row6_col4\" class=\"data row6 col4\" >0.17</td>\n",
       "      <td id=\"T_9a550_row6_col5\" class=\"data row6 col5\" >0.23</td>\n",
       "      <td id=\"T_9a550_row6_col6\" class=\"data row6 col6\" >nan</td>\n",
       "      <td id=\"T_9a550_row6_col7\" class=\"data row6 col7\" >nan</td>\n",
       "      <td id=\"T_9a550_row6_col8\" class=\"data row6 col8\" >nan</td>\n",
       "      <td id=\"T_9a550_row6_col9\" class=\"data row6 col9\" >nan</td>\n",
       "      <td id=\"T_9a550_row6_col10\" class=\"data row6 col10\" >nan</td>\n",
       "    </tr>\n",
       "    <tr>\n",
       "      <th id=\"T_9a550_level0_row7\" class=\"row_heading level0 row7\" >fact</th>\n",
       "      <td id=\"T_9a550_row7_col0\" class=\"data row7 col0\" >-0.07</td>\n",
       "      <td id=\"T_9a550_row7_col1\" class=\"data row7 col1\" >0.03</td>\n",
       "      <td id=\"T_9a550_row7_col2\" class=\"data row7 col2\" >-0.06</td>\n",
       "      <td id=\"T_9a550_row7_col3\" class=\"data row7 col3\" >-0.05</td>\n",
       "      <td id=\"T_9a550_row7_col4\" class=\"data row7 col4\" >0.09</td>\n",
       "      <td id=\"T_9a550_row7_col5\" class=\"data row7 col5\" >0.12</td>\n",
       "      <td id=\"T_9a550_row7_col6\" class=\"data row7 col6\" >0.14</td>\n",
       "      <td id=\"T_9a550_row7_col7\" class=\"data row7 col7\" >nan</td>\n",
       "      <td id=\"T_9a550_row7_col8\" class=\"data row7 col8\" >nan</td>\n",
       "      <td id=\"T_9a550_row7_col9\" class=\"data row7 col9\" >nan</td>\n",
       "      <td id=\"T_9a550_row7_col10\" class=\"data row7 col10\" >nan</td>\n",
       "    </tr>\n",
       "    <tr>\n",
       "      <th id=\"T_9a550_level0_row8\" class=\"row_heading level0 row8\" >num_bancos</th>\n",
       "      <td id=\"T_9a550_row8_col0\" class=\"data row8 col0\" >0.12</td>\n",
       "      <td id=\"T_9a550_row8_col1\" class=\"data row8 col1\" >0.02</td>\n",
       "      <td id=\"T_9a550_row8_col2\" class=\"data row8 col2\" >0.03</td>\n",
       "      <td id=\"T_9a550_row8_col3\" class=\"data row8 col3\" >-0.31</td>\n",
       "      <td id=\"T_9a550_row8_col4\" class=\"data row8 col4\" >0.30</td>\n",
       "      <td id=\"T_9a550_row8_col5\" class=\"data row8 col5\" >0.24</td>\n",
       "      <td id=\"T_9a550_row8_col6\" class=\"data row8 col6\" >0.07</td>\n",
       "      <td id=\"T_9a550_row8_col7\" class=\"data row8 col7\" >0.15</td>\n",
       "      <td id=\"T_9a550_row8_col8\" class=\"data row8 col8\" >nan</td>\n",
       "      <td id=\"T_9a550_row8_col9\" class=\"data row8 col9\" >nan</td>\n",
       "      <td id=\"T_9a550_row8_col10\" class=\"data row8 col10\" >nan</td>\n",
       "    </tr>\n",
       "    <tr>\n",
       "      <th id=\"T_9a550_level0_row9\" class=\"row_heading level0 row9\" >avg_collection_period</th>\n",
       "      <td id=\"T_9a550_row9_col0\" class=\"data row9 col0\" >-0.01</td>\n",
       "      <td id=\"T_9a550_row9_col1\" class=\"data row9 col1\" >-0.00</td>\n",
       "      <td id=\"T_9a550_row9_col2\" class=\"data row9 col2\" >0.00</td>\n",
       "      <td id=\"T_9a550_row9_col3\" class=\"data row9 col3\" >0.02</td>\n",
       "      <td id=\"T_9a550_row9_col4\" class=\"data row9 col4\" >-0.01</td>\n",
       "      <td id=\"T_9a550_row9_col5\" class=\"data row9 col5\" >-0.01</td>\n",
       "      <td id=\"T_9a550_row9_col6\" class=\"data row9 col6\" >-0.00</td>\n",
       "      <td id=\"T_9a550_row9_col7\" class=\"data row9 col7\" >-0.01</td>\n",
       "      <td id=\"T_9a550_row9_col8\" class=\"data row9 col8\" >-0.04</td>\n",
       "      <td id=\"T_9a550_row9_col9\" class=\"data row9 col9\" >nan</td>\n",
       "      <td id=\"T_9a550_row9_col10\" class=\"data row9 col10\" >nan</td>\n",
       "    </tr>\n",
       "    <tr>\n",
       "      <th id=\"T_9a550_level0_row10\" class=\"row_heading level0 row10\" >target</th>\n",
       "      <td id=\"T_9a550_row10_col0\" class=\"data row10 col0\" >0.16</td>\n",
       "      <td id=\"T_9a550_row10_col1\" class=\"data row10 col1\" >0.01</td>\n",
       "      <td id=\"T_9a550_row10_col2\" class=\"data row10 col2\" >0.09</td>\n",
       "      <td id=\"T_9a550_row10_col3\" class=\"data row10 col3\" >-0.35</td>\n",
       "      <td id=\"T_9a550_row10_col4\" class=\"data row10 col4\" >0.34</td>\n",
       "      <td id=\"T_9a550_row10_col5\" class=\"data row10 col5\" >0.25</td>\n",
       "      <td id=\"T_9a550_row10_col6\" class=\"data row10 col6\" >0.03</td>\n",
       "      <td id=\"T_9a550_row10_col7\" class=\"data row10 col7\" >-0.00</td>\n",
       "      <td id=\"T_9a550_row10_col8\" class=\"data row10 col8\" >0.26</td>\n",
       "      <td id=\"T_9a550_row10_col9\" class=\"data row10 col9\" >-0.01</td>\n",
       "      <td id=\"T_9a550_row10_col10\" class=\"data row10 col10\" >nan</td>\n",
       "    </tr>\n",
       "  </tbody>\n",
       "</table>\n"
      ],
      "text/plain": [
       "<pandas.io.formats.style.Styler at 0x7feaf427c8b0>"
      ]
     },
     "execution_count": 88,
     "metadata": {},
     "output_type": "execute_result"
    }
   ],
   "source": [
    "#is there correlation within my data?\n",
    "corr = train.corr()\n",
    "\n",
    "#fill diagonal and upper half with NaNs\n",
    "mask = np.zeros_like(corr, dtype=bool)\n",
    "mask[np.triu_indices_from(mask)] = True\n",
    "corr[mask] = np.nan\n",
    "(corr\n",
    " .style\n",
    " .background_gradient(cmap='coolwarm', axis=None, vmin=-1, vmax=1)\n",
    " .highlight_null(null_color='#f1f1f1')  # Color NaNs grey\n",
    " .set_precision(2))"
   ]
  },
  {
   "cell_type": "markdown",
   "id": "acadca11-865f-41be-ae58-4d35086a0499",
   "metadata": {},
   "source": [
    "## Observations\n",
    "* __Negative Correlations__\n",
    "    * `engagement_metric` and `no_services` have a very high negative correlation. This says that the higher the number of services contracted with the bank the better the engagement with the bank (high value == high satisfaction with services)\n",
    "    * `engagement_metric` and `no_of_products` have a moderate negative correlation\n",
    "    * `target` and `engagement_metric` have a low negative correlation\n",
    "\n",
    "* __Positive Correlations__\n",
    "    * `target` and `no_of_services` have a low positive correlation\n",
    "    * `no_services` and `no_of_products` have a moderate positive correlation but this is no surprise\n",
    "\n",
    "\n"
   ]
  },
  {
   "cell_type": "markdown",
   "id": "7d9a62e9-aedd-4ecf-8f23-b468d7b96e26",
   "metadata": {},
   "source": [
    "# Dealing with NaNs"
   ]
  },
  {
   "cell_type": "code",
   "execution_count": 89,
   "id": "154bf43a-34c3-4d88-9dfa-519e56bdcca3",
   "metadata": {},
   "outputs": [
    {
     "data": {
      "text/plain": [
       "id                           0\n",
       "cnae3                        0\n",
       "company_type                 7\n",
       "provincia                  203\n",
       "foundation_year            108\n",
       "engagement_metric            0\n",
       "no_of_services               0\n",
       "no_of_products               0\n",
       "amount_in_bank               0\n",
       "fact                     21307\n",
       "num_bancos               21307\n",
       "avg_collection_period    15826\n",
       "target                       0\n",
       "dtype: int64"
      ]
     },
     "execution_count": 89,
     "metadata": {},
     "output_type": "execute_result"
    }
   ],
   "source": [
    "train.isnull().sum()"
   ]
  },
  {
   "cell_type": "code",
   "execution_count": 90,
   "id": "c7dc4501-6b02-4955-ac41-8a92abfff15b",
   "metadata": {},
   "outputs": [
    {
     "data": {
      "text/plain": [
       "id                     0\n",
       "cnae3                  0\n",
       "provincia            203\n",
       "foundation_year      108\n",
       "engagement_metric      0\n",
       "no_of_services         0\n",
       "no_of_products         0\n",
       "amount_in_bank         0\n",
       "target                 0\n",
       "dtype: int64"
      ]
     },
     "execution_count": 90,
     "metadata": {},
     "output_type": "execute_result"
    }
   ],
   "source": [
    "train = train.drop(columns=['fact', 'num_bancos', 'avg_collection_period', 'company_type']) #dropping in train\n",
    "train.isnull().sum()"
   ]
  },
  {
   "cell_type": "code",
   "execution_count": 91,
   "id": "98e37d63-9134-4c0e-9979-96d95e3f91be",
   "metadata": {},
   "outputs": [],
   "source": [
    "test = test.drop(columns=['fact', 'num_bancos', 'avg_collection_period', 'company_type']) #dropping in train"
   ]
  },
  {
   "cell_type": "code",
   "execution_count": 92,
   "id": "2f5b438f-e8c8-4357-bb2a-152884502078",
   "metadata": {},
   "outputs": [
    {
     "data": {
      "text/plain": [
       "id                    0\n",
       "cnae3                 0\n",
       "provincia            27\n",
       "foundation_year      13\n",
       "engagement_metric     0\n",
       "no_of_services        0\n",
       "no_of_products        0\n",
       "amount_in_bank        0\n",
       "dtype: int64"
      ]
     },
     "execution_count": 92,
     "metadata": {},
     "output_type": "execute_result"
    }
   ],
   "source": [
    "test.isnull().sum()"
   ]
  },
  {
   "cell_type": "code",
   "execution_count": 93,
   "id": "abbe7025-78f1-40b4-a657-28b7c20bbc5e",
   "metadata": {},
   "outputs": [
    {
     "name": "stdout",
     "output_type": "stream",
     "text": [
      "False    1.0\n",
      "Name: foundation_year, dtype: float64\n",
      "False    1.0\n",
      "Name: foundation_year, dtype: float64\n"
     ]
    }
   ],
   "source": [
    "#replacing null values in foundation with average value\n",
    "train['foundation_year'] = train['foundation_year'].fillna(train['foundation_year'].mean())\n",
    "test['foundation_year'] = test['foundation_year'].fillna(test['foundation_year'].mean())\n",
    "\n",
    "#feature 'fact' has a big proportion of null-values\n",
    "print(train['foundation_year'].isnull().value_counts(normalize=True))\n",
    "print(test['foundation_year'].isnull().value_counts(normalize=True))"
   ]
  },
  {
   "cell_type": "code",
   "execution_count": 94,
   "id": "8938adce-8688-4ceb-b2da-0b7dfdcdd5e0",
   "metadata": {},
   "outputs": [],
   "source": [
    "#removing rows with null values\n",
    "train = train.dropna(how='any',axis=0) "
   ]
  },
  {
   "cell_type": "code",
   "execution_count": 95,
   "id": "71e18e43-977a-4c56-9e57-c515329108bf",
   "metadata": {},
   "outputs": [
    {
     "data": {
      "text/plain": [
       "id                    0\n",
       "cnae3                 0\n",
       "provincia            27\n",
       "foundation_year       0\n",
       "engagement_metric     0\n",
       "no_of_services        0\n",
       "no_of_products        0\n",
       "amount_in_bank        0\n",
       "dtype: int64"
      ]
     },
     "execution_count": 95,
     "metadata": {},
     "output_type": "execute_result"
    }
   ],
   "source": [
    "test.isnull().sum()"
   ]
  },
  {
   "cell_type": "code",
   "execution_count": 96,
   "id": "1f5c7b75-2598-40aa-83bf-cca3770c6091",
   "metadata": {},
   "outputs": [
    {
     "data": {
      "text/plain": [
       "id                   0\n",
       "cnae3                0\n",
       "provincia            0\n",
       "foundation_year      0\n",
       "engagement_metric    0\n",
       "no_of_services       0\n",
       "no_of_products       0\n",
       "amount_in_bank       0\n",
       "target               0\n",
       "dtype: int64"
      ]
     },
     "execution_count": 96,
     "metadata": {},
     "output_type": "execute_result"
    }
   ],
   "source": [
    "train.isnull().sum() #no null values left"
   ]
  },
  {
   "cell_type": "markdown",
   "id": "a039be21-f805-4709-b230-6f6438136a45",
   "metadata": {},
   "source": [
    "## Dropping customer ID"
   ]
  },
  {
   "cell_type": "code",
   "execution_count": 97,
   "id": "ec207836-6001-4329-a67c-611ac73d2376",
   "metadata": {
    "tags": []
   },
   "outputs": [],
   "source": [
    "train = train.drop(columns=['id']) #droping from train, we must exclude any features that let's the model identify an instance"
   ]
  },
  {
   "cell_type": "markdown",
   "id": "e1520144-3ede-42a3-a769-3e07af182249",
   "metadata": {},
   "source": [
    "## Class Imbalance"
   ]
  },
  {
   "cell_type": "code",
   "execution_count": 98,
   "id": "5f57dc5b-9181-4171-9e80-55d3d82e2f02",
   "metadata": {},
   "outputs": [
    {
     "data": {
      "text/plain": [
       "0    0.877094\n",
       "1    0.122906\n",
       "Name: target, dtype: float64"
      ]
     },
     "execution_count": 98,
     "metadata": {},
     "output_type": "execute_result"
    }
   ],
   "source": [
    "#how many positive cases do we have?\n",
    "train['target'].value_counts(normalize=True)"
   ]
  },
  {
   "cell_type": "code",
   "execution_count": 99,
   "id": "51e9b796-7300-4220-b58a-7af0095c2290",
   "metadata": {},
   "outputs": [],
   "source": [
    "#how many positive cases do we have?\n",
    "classes = train['target'].value_counts(normalize=True).to_frame()"
   ]
  },
  {
   "cell_type": "code",
   "execution_count": 100,
   "id": "b39afac7-68db-4960-9545-6b0618737a86",
   "metadata": {},
   "outputs": [
    {
     "data": {
      "text/plain": [
       "Text(0, 0.5, 'Percentage (%)')"
      ]
     },
     "execution_count": 100,
     "metadata": {},
     "output_type": "execute_result"
    },
    {
     "data": {
      "image/png": "[encoded data removed]",
      "text/plain": [
       "<Figure size 432x288 with 1 Axes>"
      ]
     },
     "metadata": {},
     "output_type": "display_data"
    }
   ],
   "source": [
    "#plotting inbalance \n",
    "ax = sns.barplot(x=classes.index, y='target', data=classes)\n",
    "ax.set_title('Class Distribution', fontsize=14)\n",
    "ax.set_ylabel('Percentage (%)', fontsize=14)"
   ]
  },
  {
   "cell_type": "markdown",
   "id": "c7aaf2fc-7271-4a2e-bb51-bbb34314d651",
   "metadata": {},
   "source": [
    "### Observations\n",
    "* Class=1 is very much underepresented\n",
    "* We must take action since imbalanced datasets can suffer from bias from the overepresented class"
   ]
  },
  {
   "cell_type": "markdown",
   "id": "b27c80ff-bfb7-4c8a-a9e4-d864d84e551e",
   "metadata": {},
   "source": [
    "# __Section 4:__ Building Baseline Models"
   ]
  },
  {
   "cell_type": "code",
   "execution_count": 101,
   "id": "0c1d9c72-ec07-4e41-9165-216d7bb8ab53",
   "metadata": {},
   "outputs": [],
   "source": [
    "#importing column transformers\n",
    "from sklearn.pipeline import Pipeline\n",
    "\n",
    "#importing classifiers\n",
    "from sklearn.naive_bayes import GaussianNB\n",
    "from sklearn.linear_model import LogisticRegression, RidgeClassifier\n",
    "from sklearn.neighbors import KNeighborsClassifier\n",
    "from sklearn.tree import DecisionTreeClassifier\n",
    "from sklearn.ensemble import RandomForestClassifier\n",
    "from sklearn.linear_model import RidgeClassifier\n",
    "from sklearn.discriminant_analysis import LinearDiscriminantAnalysis\n",
    "from sklearn.ensemble import ExtraTreesClassifier\n",
    "\n",
    "#train-test split\n",
    "from sklearn.model_selection import train_test_split\n",
    "\n",
    "#evaluation metrics\n",
    "from sklearn.metrics import roc_auc_score, accuracy_score, f1_score, recall_score, precision_score\n",
    "from sklearn.model_selection import cross_val_score\n",
    "\n",
    "from sklearn.preprocessing import StandardScaler, RobustScaler, MinMaxScaler"
   ]
  },
  {
   "cell_type": "code",
   "execution_count": 102,
   "id": "5bd1fe62-f166-4f42-b21d-01d493757d55",
   "metadata": {},
   "outputs": [],
   "source": [
    "#spliiting into y and X\n",
    "X = train.drop(columns=['target'])\n",
    "y = train['target']"
   ]
  },
  {
   "cell_type": "code",
   "execution_count": 103,
   "id": "254684a5-7a1e-4d4c-8fce-bd4f7e7e64d9",
   "metadata": {},
   "outputs": [],
   "source": [
    "X['provincia'] = X['provincia'].replace([\"**\"],'000')"
   ]
  },
  {
   "cell_type": "code",
   "execution_count": 104,
   "id": "2bfeab28-177f-4930-a0ef-b9075d936b42",
   "metadata": {},
   "outputs": [],
   "source": [
    "#train-test split\n",
    "x_train, x_test, y_train, y_test = train_test_split(X, y, test_size=0.2, random_state=123, shuffle=True)"
   ]
  },
  {
   "cell_type": "code",
   "execution_count": 105,
   "id": "38a0a6af-4b6a-49bd-9aba-3811b7b1c3f3",
   "metadata": {
    "tags": []
   },
   "outputs": [],
   "source": [
    "# Fit a pipeline with transformers and an estimator to the training data\n",
    "tree = DecisionTreeClassifier(random_state=123)\n",
    "\n",
    "knn = KNeighborsClassifier(n_neighbors=5)\n",
    "\n",
    "nb =  GaussianNB()\n",
    "\n",
    "rf = RandomForestClassifier(random_state=123)\n",
    "\n",
    "lg = LogisticRegression(random_state=123)\n",
    "\n",
    "ridge_clf = RidgeClassifier(random_state=123)\n",
    "\n",
    "lda = LinearDiscriminantAnalysis()\n",
    "\n",
    "extra_trees = ExtraTreesClassifier(random_state=123)"
   ]
  },
  {
   "cell_type": "code",
   "execution_count": 106,
   "id": "fe46048a-9639-4afd-9923-db4eb346ba7e",
   "metadata": {},
   "outputs": [],
   "source": [
    "# add the different pipelines to a list\n",
    "models = [tree, knn, nb, rf, lg, ridge_clf, lda, extra_trees]\n",
    "model_names = [\"tree\", \"knn\", \"nb\", \"rf\", \"lr\", \"ridge_clf\", 'lda', 'extra_trees']"
   ]
  },
  {
   "cell_type": "code",
   "execution_count": 107,
   "id": "03d6f77c-5ba2-4390-a0d4-6d5cb4ed721c",
   "metadata": {},
   "outputs": [],
   "source": [
    "baseline_model_scores = []\n",
    "\n",
    "for model, model_names in zip(models, model_names):\n",
    "    model.fit(x_train, y_train)\n",
    "    y_hat = model.predict(x_test)\n",
    "    accuracy = accuracy_score(y_test, y_hat)\n",
    "    roc_auc = cross_val_score(model, x_train, y_train, cv=10, scoring='roc_auc').mean()\n",
    "    precision = precision_score(y_test, y_hat)\n",
    "    recall = recall_score(y_test, y_hat)\n",
    "    f1 = f1_score(y_test, y_hat)\n",
    "    baseline_model_scores.append({\n",
    "        \"model\" : model_names,\n",
    "        \"roc_auc\" : roc_auc,\n",
    "        \"precision\": precision, \n",
    "        'f1': f1, \n",
    "        'accuracy': accuracy, \n",
    "        'recall':recall})"
   ]
  },
  {
   "cell_type": "code",
   "execution_count": 108,
   "id": "4741cf2d-035e-431f-9719-d7a70ad9ea94",
   "metadata": {},
   "outputs": [
    {
     "data": {
      "text/html": [
       "<div>\n",
       "<style scoped>\n",
       "    .dataframe tbody tr th:only-of-type {\n",
       "        vertical-align: middle;\n",
       "    }\n",
       "\n",
       "    .dataframe tbody tr th {\n",
       "        vertical-align: top;\n",
       "    }\n",
       "\n",
       "    .dataframe thead th {\n",
       "        text-align: right;\n",
       "    }\n",
       "</style>\n",
       "<table border=\"1\" class=\"dataframe\">\n",
       "  <thead>\n",
       "    <tr style=\"text-align: right;\">\n",
       "      <th></th>\n",
       "      <th>precision</th>\n",
       "      <th>recall</th>\n",
       "      <th>accuracy</th>\n",
       "      <th>f1</th>\n",
       "      <th>roc_auc</th>\n",
       "    </tr>\n",
       "    <tr>\n",
       "      <th>model</th>\n",
       "      <th></th>\n",
       "      <th></th>\n",
       "      <th></th>\n",
       "      <th></th>\n",
       "      <th></th>\n",
       "    </tr>\n",
       "  </thead>\n",
       "  <tbody>\n",
       "    <tr>\n",
       "      <th>rf</th>\n",
       "      <td>0.506073</td>\n",
       "      <td>0.201939</td>\n",
       "      <td>0.875405</td>\n",
       "      <td>0.288684</td>\n",
       "      <td>0.851392</td>\n",
       "    </tr>\n",
       "    <tr>\n",
       "      <th>extra_trees</th>\n",
       "      <td>0.446352</td>\n",
       "      <td>0.168013</td>\n",
       "      <td>0.869741</td>\n",
       "      <td>0.244131</td>\n",
       "      <td>0.833035</td>\n",
       "    </tr>\n",
       "    <tr>\n",
       "      <th>lda</th>\n",
       "      <td>0.404040</td>\n",
       "      <td>0.064620</td>\n",
       "      <td>0.870955</td>\n",
       "      <td>0.111421</td>\n",
       "      <td>0.806024</td>\n",
       "    </tr>\n",
       "    <tr>\n",
       "      <th>ridge_clf</th>\n",
       "      <td>0.000000</td>\n",
       "      <td>0.000000</td>\n",
       "      <td>0.874798</td>\n",
       "      <td>0.000000</td>\n",
       "      <td>0.806023</td>\n",
       "    </tr>\n",
       "    <tr>\n",
       "      <th>knn</th>\n",
       "      <td>0.282511</td>\n",
       "      <td>0.101777</td>\n",
       "      <td>0.855178</td>\n",
       "      <td>0.149644</td>\n",
       "      <td>0.687184</td>\n",
       "    </tr>\n",
       "    <tr>\n",
       "      <th>tree</th>\n",
       "      <td>0.330218</td>\n",
       "      <td>0.342488</td>\n",
       "      <td>0.830704</td>\n",
       "      <td>0.336241</td>\n",
       "      <td>0.639704</td>\n",
       "    </tr>\n",
       "    <tr>\n",
       "      <th>nb</th>\n",
       "      <td>0.000000</td>\n",
       "      <td>0.000000</td>\n",
       "      <td>0.874798</td>\n",
       "      <td>0.000000</td>\n",
       "      <td>0.627826</td>\n",
       "    </tr>\n",
       "    <tr>\n",
       "      <th>lr</th>\n",
       "      <td>0.000000</td>\n",
       "      <td>0.000000</td>\n",
       "      <td>0.874595</td>\n",
       "      <td>0.000000</td>\n",
       "      <td>0.503380</td>\n",
       "    </tr>\n",
       "  </tbody>\n",
       "</table>\n",
       "</div>"
      ],
      "text/plain": [
       "             precision    recall  accuracy        f1   roc_auc\n",
       "model                                                         \n",
       "rf            0.506073  0.201939  0.875405  0.288684  0.851392\n",
       "extra_trees   0.446352  0.168013  0.869741  0.244131  0.833035\n",
       "lda           0.404040  0.064620  0.870955  0.111421  0.806024\n",
       "ridge_clf     0.000000  0.000000  0.874798  0.000000  0.806023\n",
       "knn           0.282511  0.101777  0.855178  0.149644  0.687184\n",
       "tree          0.330218  0.342488  0.830704  0.336241  0.639704\n",
       "nb            0.000000  0.000000  0.874798  0.000000  0.627826\n",
       "lr            0.000000  0.000000  0.874595  0.000000  0.503380"
      ]
     },
     "execution_count": 108,
     "metadata": {},
     "output_type": "execute_result"
    }
   ],
   "source": [
    "baseline_model_scores\n",
    "baseline_model_scores_df = pd.DataFrame(baseline_model_scores, columns = [\"model\",\n",
    "                                                                          'precision',\n",
    "                                                                          'recall',\n",
    "                                                                          \"accuracy\", \n",
    "                                                                          'f1', \n",
    "                                                                          'roc_auc' \n",
    "                                                                          ]).set_index(\"model\").sort_values(by = [\"roc_auc\"], ascending = False)\n",
    "baseline_model_scores_df "
   ]
  },
  {
   "cell_type": "markdown",
   "id": "def396bc-7413-4982-806c-c9ffddd74203",
   "metadata": {},
   "source": [
    "## Choosing a Baseline Model: Comments\n",
    "* For this particular case we want to correctly predict who is a potential client so we must focus on the `precision` metric\n",
    "* `Precision` talks about how precise/accurate your model is by calculating out of those predicted positive, how many of them are actual positive\n",
    "    * `Precision` is a good measure to determine, when the costs of False Positive is high. For instance, email spam detection. In email spam detection, a false positive means that an email that is non-spam (actual negative) has been identified as spam (predicted spam). The email user might lose important emails if the precision is not high for the spam detection model\n",
    "    * The costs of `False Positives` is high in our case because we may end up targetting and investing marketing funds and efforts into companies that are not likely to be interested in our services\n",
    "* `Recall` is also a good metric in this case, Recall shall be the model metric we use to select our best model when there is a high cost associated with `False Negative` cases\n",
    "    * For instance, in fraud detection or sick patient detection. If a fraudulent transaction (Actual Positive) is predicted as non-fraudulent (Predicted Negative), the consequence can be very bad for the bank, in our case, we are dealing with the lost opportunity of targetting a potential client with the promotion. \n",
    "* Given the two metrics and due to the nature of the problem we shall use precision as the company must avoid at all costs wasting money in clients that are most likely not interested in doing business with us\n"
   ]
  },
  {
   "cell_type": "markdown",
   "id": "3d409d09-6fba-48c4-a971-0d332877e2ea",
   "metadata": {},
   "source": [
    "# __Section 5:__ Improving Baseline Models with `upsampling`\n",
    ">Note: Since we are balancing data we can use the `roc_auc` metric to measure and compare model performance.\n",
    ">>How to interpret the metric: The higher the AUC, the better the performance of the model at distinguishing between the positive and negative classes. A model whose predictions are 100% correct has an AUC of 100%"
   ]
  },
  {
   "cell_type": "code",
   "execution_count": 109,
   "id": "cf3f5bf4-982f-4c79-8675-9722677c3007",
   "metadata": {
    "tags": []
   },
   "outputs": [
    {
     "data": {
      "text/html": [
       "<div>\n",
       "<style scoped>\n",
       "    .dataframe tbody tr th:only-of-type {\n",
       "        vertical-align: middle;\n",
       "    }\n",
       "\n",
       "    .dataframe tbody tr th {\n",
       "        vertical-align: top;\n",
       "    }\n",
       "\n",
       "    .dataframe thead th {\n",
       "        text-align: right;\n",
       "    }\n",
       "</style>\n",
       "<table border=\"1\" class=\"dataframe\">\n",
       "  <thead>\n",
       "    <tr style=\"text-align: right;\">\n",
       "      <th></th>\n",
       "      <th>target</th>\n",
       "    </tr>\n",
       "  </thead>\n",
       "  <tbody>\n",
       "    <tr>\n",
       "      <th>1</th>\n",
       "      <td>21883</td>\n",
       "    </tr>\n",
       "    <tr>\n",
       "      <th>0</th>\n",
       "      <td>21680</td>\n",
       "    </tr>\n",
       "  </tbody>\n",
       "</table>\n",
       "</div>"
      ],
      "text/plain": [
       "   target\n",
       "1   21883\n",
       "0   21680"
      ]
     },
     "execution_count": 109,
     "metadata": {},
     "output_type": "execute_result"
    }
   ],
   "source": [
    "#importing resampling tool to correct class imbalance with upsampling\n",
    "from sklearn.utils import resample\n",
    "\n",
    "#separating majority and minority classes\n",
    "df_majority = train[train.target==0]\n",
    "df_minority = train[train.target==1]\n",
    "\n",
    "#upsample minority class\n",
    "df_minority_upsampled = resample(df_minority, \n",
    "                                 replace=True,     # sample with replacement\n",
    "                                 n_samples=21883,    # to match majority class\n",
    "                                 random_state=123) # reproducible results\n",
    "\n",
    "#combine majority class with upsampled minority class\n",
    "data_upsampled = pd.concat([df_majority, df_minority_upsampled])\n",
    "\n",
    "#display new class counts\n",
    "data_upsampled.target.value_counts()\n",
    "\n",
    "#assigning balanced dataset to train set\n",
    "train_upsampled = data_upsampled\n",
    "\n",
    "train_upsampled['target'].value_counts().to_frame()"
   ]
  },
  {
   "cell_type": "code",
   "execution_count": 110,
   "id": "585bee90-c9d1-4429-b258-2d5097fdc898",
   "metadata": {},
   "outputs": [],
   "source": [
    "#how many positive cases do we have?\n",
    "classes = train_upsampled['target'].value_counts(normalize=True).to_frame()"
   ]
  },
  {
   "cell_type": "code",
   "execution_count": 111,
   "id": "f2abdd83-5668-4801-86b7-a2f531ae4d9d",
   "metadata": {},
   "outputs": [
    {
     "data": {
      "text/plain": [
       "Text(0, 0.5, 'Percentage (%)')"
      ]
     },
     "execution_count": 111,
     "metadata": {},
     "output_type": "execute_result"
    },
    {
     "data": {
      "image/png": "[encoded data removed]",
      "text/plain": [
       "<Figure size 432x288 with 1 Axes>"
      ]
     },
     "metadata": {},
     "output_type": "display_data"
    }
   ],
   "source": [
    "#plotting inbalance \n",
    "ax = sns.barplot(x=classes.index, y='target', data=classes)\n",
    "ax.set_title('Class Distribution after Upsampling', fontsize=14)\n",
    "ax.set_ylabel('Percentage (%)', fontsize=14)"
   ]
  },
  {
   "cell_type": "code",
   "execution_count": 112,
   "id": "11b088ca-cabe-401f-894e-c0b38f1af8e3",
   "metadata": {},
   "outputs": [],
   "source": [
    "#spliiting into y and X\n",
    "X = train_upsampled.drop(columns=['target'])\n",
    "y = train_upsampled['target']"
   ]
  },
  {
   "cell_type": "code",
   "execution_count": 113,
   "id": "793c89c5-96ae-44f2-b670-5eef816ca32d",
   "metadata": {},
   "outputs": [],
   "source": [
    "X['provincia'] = X['provincia'].replace([\"**\"],'000')"
   ]
  },
  {
   "cell_type": "code",
   "execution_count": 114,
   "id": "1c3ce46c-93ad-4d34-9572-647f853e2b82",
   "metadata": {},
   "outputs": [],
   "source": [
    "#train-test split\n",
    "x_train, x_test, y_train, y_test = train_test_split(X, y, test_size=0.2, random_state=123, shuffle=True)"
   ]
  },
  {
   "cell_type": "code",
   "execution_count": 115,
   "id": "b6892e75-19c6-4fe9-905e-254cd53f1c7a",
   "metadata": {},
   "outputs": [],
   "source": [
    "#adding the different algorithms to a list\n",
    "models = [tree, knn, nb, rf, lg, ridge_clf, lda]\n",
    "model_names = [\"tree\", \"knn\", \"nb\", \"rf\", \"lr\", \"ridge_clf\", 'lda']"
   ]
  },
  {
   "cell_type": "code",
   "execution_count": 116,
   "id": "a9877e83-afcc-48d7-aee5-7dec716007b9",
   "metadata": {},
   "outputs": [],
   "source": [
    "baseline_model_scores = []\n",
    "\n",
    "for model, model_names in zip(models, model_names):\n",
    "    model.fit(x_train, y_train)\n",
    "    y_hat = model.predict(x_test)\n",
    "    accuracy = accuracy_score(y_test, y_hat)\n",
    "    roc_auc = cross_val_score(model, x_train, y_train, cv=10, scoring='roc_auc').mean()\n",
    "    precision = precision_score(y_test, y_hat)\n",
    "    recall = recall_score(y_test, y_hat)\n",
    "    f1 = f1_score(y_test, y_hat)\n",
    "    baseline_model_scores.append({\n",
    "        \"model\" : model_names,\n",
    "        \"roc_auc\" : roc_auc,\n",
    "        \"precision\": precision, \n",
    "        'f1': f1, \n",
    "        'accuracy': accuracy, \n",
    "        'recall':recall})"
   ]
  },
  {
   "cell_type": "code",
   "execution_count": 117,
   "id": "1bf55522-68a8-406f-8f1e-7a92fdcb7037",
   "metadata": {},
   "outputs": [
    {
     "data": {
      "text/html": [
       "<div>\n",
       "<style scoped>\n",
       "    .dataframe tbody tr th:only-of-type {\n",
       "        vertical-align: middle;\n",
       "    }\n",
       "\n",
       "    .dataframe tbody tr th {\n",
       "        vertical-align: top;\n",
       "    }\n",
       "\n",
       "    .dataframe thead th {\n",
       "        text-align: right;\n",
       "    }\n",
       "</style>\n",
       "<table border=\"1\" class=\"dataframe\">\n",
       "  <thead>\n",
       "    <tr style=\"text-align: right;\">\n",
       "      <th></th>\n",
       "      <th>precision</th>\n",
       "      <th>recall</th>\n",
       "      <th>accuracy</th>\n",
       "      <th>f1</th>\n",
       "      <th>roc_auc</th>\n",
       "    </tr>\n",
       "    <tr>\n",
       "      <th>model</th>\n",
       "      <th></th>\n",
       "      <th></th>\n",
       "      <th></th>\n",
       "      <th></th>\n",
       "      <th></th>\n",
       "    </tr>\n",
       "  </thead>\n",
       "  <tbody>\n",
       "    <tr>\n",
       "      <th>rf</th>\n",
       "      <td>0.927548</td>\n",
       "      <td>0.996654</td>\n",
       "      <td>0.958223</td>\n",
       "      <td>0.960860</td>\n",
       "      <td>0.998195</td>\n",
       "    </tr>\n",
       "    <tr>\n",
       "      <th>tree</th>\n",
       "      <td>0.905351</td>\n",
       "      <td>0.996431</td>\n",
       "      <td>0.944566</td>\n",
       "      <td>0.948710</td>\n",
       "      <td>0.943489</td>\n",
       "    </tr>\n",
       "    <tr>\n",
       "      <th>knn</th>\n",
       "      <td>0.777857</td>\n",
       "      <td>0.971671</td>\n",
       "      <td>0.842649</td>\n",
       "      <td>0.864029</td>\n",
       "      <td>0.909713</td>\n",
       "    </tr>\n",
       "    <tr>\n",
       "      <th>ridge_clf</th>\n",
       "      <td>0.735043</td>\n",
       "      <td>0.767343</td>\n",
       "      <td>0.737978</td>\n",
       "      <td>0.750846</td>\n",
       "      <td>0.807679</td>\n",
       "    </tr>\n",
       "    <tr>\n",
       "      <th>lda</th>\n",
       "      <td>0.735043</td>\n",
       "      <td>0.767343</td>\n",
       "      <td>0.737978</td>\n",
       "      <td>0.750846</td>\n",
       "      <td>0.807679</td>\n",
       "    </tr>\n",
       "    <tr>\n",
       "      <th>lr</th>\n",
       "      <td>0.508546</td>\n",
       "      <td>0.351773</td>\n",
       "      <td>0.491564</td>\n",
       "      <td>0.415876</td>\n",
       "      <td>0.696450</td>\n",
       "    </tr>\n",
       "    <tr>\n",
       "      <th>nb</th>\n",
       "      <td>0.534069</td>\n",
       "      <td>0.809503</td>\n",
       "      <td>0.538620</td>\n",
       "      <td>0.643554</td>\n",
       "      <td>0.643060</td>\n",
       "    </tr>\n",
       "  </tbody>\n",
       "</table>\n",
       "</div>"
      ],
      "text/plain": [
       "           precision    recall  accuracy        f1   roc_auc\n",
       "model                                                       \n",
       "rf          0.927548  0.996654  0.958223  0.960860  0.998195\n",
       "tree        0.905351  0.996431  0.944566  0.948710  0.943489\n",
       "knn         0.777857  0.971671  0.842649  0.864029  0.909713\n",
       "ridge_clf   0.735043  0.767343  0.737978  0.750846  0.807679\n",
       "lda         0.735043  0.767343  0.737978  0.750846  0.807679\n",
       "lr          0.508546  0.351773  0.491564  0.415876  0.696450\n",
       "nb          0.534069  0.809503  0.538620  0.643554  0.643060"
      ]
     },
     "execution_count": 117,
     "metadata": {},
     "output_type": "execute_result"
    }
   ],
   "source": [
    "baseline_model_scores\n",
    "baseline_model_scores_df = pd.DataFrame(baseline_model_scores, columns = [\"model\",\n",
    "                                                                          'precision',\n",
    "                                                                          'recall',\n",
    "                                                                          \"accuracy\", \n",
    "                                                                          'f1', \n",
    "                                                                          'roc_auc' \n",
    "                                                                          ]).set_index(\"model\").sort_values(by = [\"roc_auc\"], ascending = False)\n",
    "baseline_model_scores_df "
   ]
  },
  {
   "cell_type": "markdown",
   "id": "9ea573cb-1980-4ece-b120-cab3db4c82af",
   "metadata": {},
   "source": [
    "# Comments after balancing both classes\n",
    "* After using `upsampling` to balance the classes performance improved. Not only the performance was better but the downside of undersampling is that we may remove information from the dataset that may be valuable for the model, because of this, it's best to stick with upsampling\n",
    "* Since classes are now balanced we can make use the `roc_auc` score to measure model performance\n",
    "* `RandomForestClassifier` not only had the best `roc_auc` score but the `precision` and `recall` metric were also really good\n",
    "* `recall` and `precison` metrics are important to take into account because the costs of `False Positives` is high in our case because we may end up targetting and investing marketing funds and efforts into companies that are not likely to be interested in our services"
   ]
  },
  {
   "cell_type": "markdown",
   "id": "db10050d-e531-415e-bb49-4dd634fddc25",
   "metadata": {},
   "source": [
    "# __Section 7:__ Feature Importance"
   ]
  },
  {
   "cell_type": "code",
   "execution_count": 118,
   "id": "9c4de984-8a77-4c2f-942d-0f0b9f72dd6c",
   "metadata": {},
   "outputs": [],
   "source": [
    "#spliiting into y and X\n",
    "X = train_upsampled.drop(columns=['target'])\n",
    "y = train_upsampled['target']"
   ]
  },
  {
   "cell_type": "code",
   "execution_count": 119,
   "id": "0f5a7458-ae83-4803-a4a0-6c1b01a36548",
   "metadata": {},
   "outputs": [],
   "source": [
    "X['provincia'] = X['provincia'].replace([\"**\"],'000')"
   ]
  },
  {
   "cell_type": "code",
   "execution_count": 120,
   "id": "885aca19-6820-4ae3-b34a-e38c107884de",
   "metadata": {},
   "outputs": [
    {
     "data": {
      "text/html": [
       "<div>\n",
       "<style scoped>\n",
       "    .dataframe tbody tr th:only-of-type {\n",
       "        vertical-align: middle;\n",
       "    }\n",
       "\n",
       "    .dataframe tbody tr th {\n",
       "        vertical-align: top;\n",
       "    }\n",
       "\n",
       "    .dataframe thead th {\n",
       "        text-align: right;\n",
       "    }\n",
       "</style>\n",
       "<table border=\"1\" class=\"dataframe\">\n",
       "  <thead>\n",
       "    <tr style=\"text-align: right;\">\n",
       "      <th></th>\n",
       "      <th>target</th>\n",
       "    </tr>\n",
       "  </thead>\n",
       "  <tbody>\n",
       "    <tr>\n",
       "      <th>1</th>\n",
       "      <td>21883</td>\n",
       "    </tr>\n",
       "    <tr>\n",
       "      <th>0</th>\n",
       "      <td>21680</td>\n",
       "    </tr>\n",
       "  </tbody>\n",
       "</table>\n",
       "</div>"
      ],
      "text/plain": [
       "   target\n",
       "1   21883\n",
       "0   21680"
      ]
     },
     "execution_count": 120,
     "metadata": {},
     "output_type": "execute_result"
    }
   ],
   "source": [
    "y.value_counts().to_frame()"
   ]
  },
  {
   "cell_type": "code",
   "execution_count": 121,
   "id": "ce998f8f-81f4-4177-869e-79e4bf3638be",
   "metadata": {},
   "outputs": [],
   "source": [
    "#train-test split\n",
    "x_train, x_test, y_train, y_test = train_test_split(X, y, test_size=0.2, random_state=123, shuffle=True)"
   ]
  },
  {
   "cell_type": "code",
   "execution_count": 122,
   "id": "cb71140a-84b7-4599-92e6-b2791fda3923",
   "metadata": {},
   "outputs": [
    {
     "data": {
      "text/plain": [
       "RandomForestClassifier(random_state=123)"
      ]
     },
     "execution_count": 122,
     "metadata": {},
     "output_type": "execute_result"
    }
   ],
   "source": [
    "rf = RandomForestClassifier(random_state=123)\n",
    "\n",
    "rf.fit(x_train, y_train)"
   ]
  },
  {
   "cell_type": "code",
   "execution_count": 123,
   "id": "ee9f24b4-cb62-4010-8807-af253d0bd463",
   "metadata": {},
   "outputs": [
    {
     "data": {
      "image/png": "[encoded data removed]",
      "text/plain": [
       "<Figure size 576x432 with 1 Axes>"
      ]
     },
     "metadata": {},
     "output_type": "display_data"
    }
   ],
   "source": [
    "sns.set_style('whitegrid')\n",
    "\n",
    "#getting importances\n",
    "importances = rf.feature_importances_\n",
    "\n",
    "#sort the feature importance in descending order\n",
    "sorted_indices = np.argsort(importances)[::-1]\n",
    "\n",
    "plt.figure(figsize=(8, 6))\n",
    "plt.title('Feature Importance\\n RandomForestClassifier & Upsampling', fontsize=16)\n",
    "plt.barh(range(x_train.shape[1]), importances[sorted_indices], align='center', color='b')\n",
    "plt.yticks(range(x_train.shape[1]), x_train.columns[sorted_indices])\n",
    "plt.tight_layout()\n",
    "plt.show()"
   ]
  },
  {
   "cell_type": "markdown",
   "id": "4e14940d-b81b-40a8-ba4e-8e3fd747f1a0",
   "metadata": {},
   "source": [
    "## Observations\n",
    "* Feature Importance is interpreted as follows: A higher score means that the specific feature will have a larger effect on the model that is being used to predict a certain variable\n",
    "* `amount_in_bank` is the feature with more weight in the classification"
   ]
  },
  {
   "cell_type": "markdown",
   "id": "52fdf8b6-f842-4b92-9a19-2e8ab79fb08e",
   "metadata": {},
   "source": [
    "# __Section 7:__ Hyperparameter Tuning with `RandomForestClassifier`"
   ]
  },
  {
   "cell_type": "code",
   "execution_count": 124,
   "id": "47a12465-15ea-4ab3-96bd-87297520c157",
   "metadata": {},
   "outputs": [
    {
     "data": {
      "text/plain": [
       "['bootstrap',\n",
       " 'ccp_alpha',\n",
       " 'class_weight',\n",
       " 'criterion',\n",
       " 'max_depth',\n",
       " 'max_features',\n",
       " 'max_leaf_nodes',\n",
       " 'max_samples',\n",
       " 'min_impurity_decrease',\n",
       " 'min_samples_leaf',\n",
       " 'min_samples_split',\n",
       " 'min_weight_fraction_leaf',\n",
       " 'n_estimators',\n",
       " 'n_jobs',\n",
       " 'oob_score',\n",
       " 'random_state',\n",
       " 'verbose',\n",
       " 'warm_start']"
      ]
     },
     "execution_count": 124,
     "metadata": {},
     "output_type": "execute_result"
    }
   ],
   "source": [
    "clf = RandomForestClassifier(random_state=123)\n",
    "\n",
    "sorted(clf.get_params().keys())"
   ]
  },
  {
   "cell_type": "code",
   "execution_count": 125,
   "id": "09f9137d-bc37-4168-aa96-40e6ca43faad",
   "metadata": {},
   "outputs": [
    {
     "data": {
      "text/plain": [
       "'There is a total of 192 possible combinations of parameters'"
      ]
     },
     "execution_count": 125,
     "metadata": {},
     "output_type": "execute_result"
    }
   ],
   "source": [
    "from sklearn.model_selection import GridSearchCV\n",
    "from sklearn.model_selection import ParameterGrid\n",
    "\n",
    "# parameters\n",
    "param_grid = [\n",
    "    {\n",
    "        'max_depth': [5, 15, 30, None],\n",
    "        'n_estimators': [100, 150, 200],\n",
    "        \"max_samples\": [0.6, 0.8],\n",
    "        'max_features': [0.6, 0.8],\n",
    "        'min_samples_leaf': [2, 5],\n",
    "        'min_samples_split': [2, 5]\n",
    "    }]\n",
    "\n",
    "combinations = len(ParameterGrid(param_grid))\n",
    "f'There is a total of {combinations} possible combinations of parameters'"
   ]
  },
  {
   "cell_type": "raw",
   "id": "838989c3-83d4-4b69-af15-42093bc666e1",
   "metadata": {},
   "source": [
    "#spliting into y and X\n",
    "X = train_upsampled.drop(columns=['target'])\n",
    "y = train_upsampled['target']"
   ]
  },
  {
   "cell_type": "raw",
   "id": "719fbe3c-d9a3-4629-bf24-48fc706e951b",
   "metadata": {},
   "source": [
    "y.value_counts()"
   ]
  },
  {
   "cell_type": "raw",
   "id": "e23ffb2b-cd6d-4b7e-8b49-6630ce4369ce",
   "metadata": {},
   "source": [
    "#train_test_split wihtout shuffling to preserve record order\n",
    "x_train, x_test, y_train, y_test = train_test_split(X, y, test_size=0.2, random_state=123, shuffle=True)"
   ]
  },
  {
   "cell_type": "raw",
   "id": "6ebb6f31-8e5e-44f8-a7cd-c730f9886b11",
   "metadata": {
    "jupyter": {
     "outputs_hidden": true
    },
    "tags": []
   },
   "source": [
    "clf = RandomForestClassifier(random_state=123)\n",
    "\n",
    "#fitting randomforest to data\n",
    "grid = GridSearchCV(clf, param_grid, cv=5, scoring=\"roc_auc\", n_jobs=-1, verbose=2)\n",
    "grid.fit(x_train, y_train)"
   ]
  },
  {
   "cell_type": "raw",
   "id": "dd06a89f-3b4d-4157-ba5e-8115d5d4dfea",
   "metadata": {
    "jupyter": {
     "outputs_hidden": true
    },
    "tags": []
   },
   "source": [
    "grid.best_params_"
   ]
  },
  {
   "cell_type": "raw",
   "id": "83cd5ff4-754f-4b91-84e1-9f5bee32bfc1",
   "metadata": {},
   "source": [
    "#best params\n",
    "'max_depth': 30,\n",
    " 'max_features': 0.8,\n",
    " 'max_samples': 0.8,\n",
    " 'min_samples_leaf': 2,\n",
    " 'min_samples_split': 2,\n",
    " 'n_estimators': 200"
   ]
  },
  {
   "cell_type": "markdown",
   "id": "969df441-d036-47d2-a329-55d261928288",
   "metadata": {},
   "source": [
    "# __Section 8:__ `RandomForestClassifier` with best parameters"
   ]
  },
  {
   "cell_type": "code",
   "execution_count": 126,
   "id": "b479a26c-5c73-4079-b582-cb2ea6941273",
   "metadata": {},
   "outputs": [],
   "source": [
    "#using best parameters \n",
    "rf_best_params = RandomForestClassifier(max_depth=30,\n",
    "                            max_features=0.8,\n",
    "                            max_samples=0.8,\n",
    "                            min_samples_leaf=2,\n",
    "                            min_samples_split=2,\n",
    "                            n_estimators=200,\n",
    "                            random_state=123)"
   ]
  },
  {
   "cell_type": "code",
   "execution_count": 127,
   "id": "028f0413-515f-40a4-a16e-77d2b3f2f59e",
   "metadata": {},
   "outputs": [],
   "source": [
    "rf_best_params.fit(x_train, y_train)\n",
    "y_hat = rf_best_params.predict(x_test)\n",
    "accuracy = accuracy_score(y_test, y_hat)\n",
    "roc_auc = cross_val_score(model, x_train, y_train, cv=10, scoring='roc_auc').mean()\n",
    "precision = precision_score(y_test, y_hat)\n",
    "recall = recall_score(y_test, y_hat)\n",
    "f1 = f1_score(y_test, y_hat)"
   ]
  },
  {
   "cell_type": "code",
   "execution_count": 128,
   "id": "59fc4edf-290d-4d35-895f-0e024b6554f9",
   "metadata": {},
   "outputs": [],
   "source": [
    "final_random_forest = []\n",
    "\n",
    "final_random_forest.append({\n",
    "        \"model\": 'RandomForestClf with best params',\n",
    "        \"roc_auc\" : roc_auc,\n",
    "        \"precision\": precision, \n",
    "        'f1': f1, \n",
    "        'accuracy': accuracy, \n",
    "        'recall':recall})"
   ]
  },
  {
   "cell_type": "code",
   "execution_count": 129,
   "id": "3070b1ef-45c6-41d3-8634-df48b883ff9e",
   "metadata": {},
   "outputs": [
    {
     "data": {
      "text/html": [
       "<div>\n",
       "<style scoped>\n",
       "    .dataframe tbody tr th:only-of-type {\n",
       "        vertical-align: middle;\n",
       "    }\n",
       "\n",
       "    .dataframe tbody tr th {\n",
       "        vertical-align: top;\n",
       "    }\n",
       "\n",
       "    .dataframe thead th {\n",
       "        text-align: right;\n",
       "    }\n",
       "</style>\n",
       "<table border=\"1\" class=\"dataframe\">\n",
       "  <thead>\n",
       "    <tr style=\"text-align: right;\">\n",
       "      <th></th>\n",
       "      <th>recall</th>\n",
       "      <th>precision</th>\n",
       "      <th>accuracy</th>\n",
       "      <th>f1</th>\n",
       "      <th>roc_auc</th>\n",
       "    </tr>\n",
       "    <tr>\n",
       "      <th>model</th>\n",
       "      <th></th>\n",
       "      <th></th>\n",
       "      <th></th>\n",
       "      <th></th>\n",
       "      <th></th>\n",
       "    </tr>\n",
       "  </thead>\n",
       "  <tbody>\n",
       "    <tr>\n",
       "      <th>RandomForestClf with best params</th>\n",
       "      <td>0.992193</td>\n",
       "      <td>0.901317</td>\n",
       "      <td>0.94009</td>\n",
       "      <td>0.944574</td>\n",
       "      <td>0.807679</td>\n",
       "    </tr>\n",
       "  </tbody>\n",
       "</table>\n",
       "</div>"
      ],
      "text/plain": [
       "                                    recall  precision  accuracy        f1  \\\n",
       "model                                                                       \n",
       "RandomForestClf with best params  0.992193   0.901317   0.94009  0.944574   \n",
       "\n",
       "                                   roc_auc  \n",
       "model                                       \n",
       "RandomForestClf with best params  0.807679  "
      ]
     },
     "execution_count": 129,
     "metadata": {},
     "output_type": "execute_result"
    }
   ],
   "source": [
    "final_random_forest_df = pd.DataFrame(final_random_forest, \n",
    "                                      columns = ['model','recall', 'precision',\n",
    "                                                 \"accuracy\", 'f1', 'roc_auc']).sort_values(by = [\"roc_auc\"], ascending=False).set_index('model')\n",
    "final_random_forest_df "
   ]
  },
  {
   "cell_type": "markdown",
   "id": "4d25f191-cf00-4d4a-8ebd-4508bf404779",
   "metadata": {},
   "source": [
    "## Observations\n",
    "* `recall`, `precision`, `accuracy` and `f1` values were improved after hyperparameter tuning\n",
    "* `roc_auc` decreased from `0.993628` to `0.843358` after hyperparameeter tuning\n",
    "* Since our target variable is balanced thanks to `upsampling` we can rely on the `roc_auc` to measure overall performance\n",
    "* After hyperparameter tuning `roc_auc` metric decreased by ~15% which I think is a significant decrease in performance"
   ]
  },
  {
   "cell_type": "markdown",
   "id": "873fb5e1-06db-4c8a-a5fe-db993514242b",
   "metadata": {},
   "source": [
    "# __Section 9:__ Visualizations"
   ]
  },
  {
   "cell_type": "code",
   "execution_count": 130,
   "id": "24dbe7fa-06b1-432c-9798-6d0914664782",
   "metadata": {},
   "outputs": [],
   "source": [
    "rf = RandomForestClassifier(random_state=123)\n",
    "\n",
    "rf.fit(x_train, y_train)\n",
    "y_hat = rf.predict(x_test)"
   ]
  },
  {
   "cell_type": "code",
   "execution_count": 131,
   "id": "a9d009ed-2aa1-4ad1-aa51-23152e4cfdaa",
   "metadata": {},
   "outputs": [],
   "source": [
    "from sklearn.metrics import confusion_matrix"
   ]
  },
  {
   "cell_type": "code",
   "execution_count": 132,
   "id": "3284da9e-19fb-4f81-b8e0-3d5778bdcc65",
   "metadata": {},
   "outputs": [],
   "source": [
    "def plot_conf_matrix (conf_matrix, dtype):\n",
    "    class_names = [0,1]\n",
    "    fontsize=14\n",
    "    df_conf_matrix = pd.DataFrame(\n",
    "            conf_matrix, index=class_names, columns=class_names, \n",
    "        )\n",
    "    fig = plt.figure()\n",
    "    heatmap = sns.heatmap(df_conf_matrix, annot=True, fmt=\"d\")\n",
    "    heatmap.yaxis.set_ticklabels(heatmap.yaxis.get_ticklabels(), rotation=0, ha='right', fontsize=fontsize)\n",
    "    heatmap.xaxis.set_ticklabels(heatmap.xaxis.get_ticklabels(), rotation=0, ha='right', fontsize=fontsize)\n",
    "    plt.ylabel('True label')\n",
    "    plt.xlabel('Predicted label')\n",
    "    plt.title('Confusion Matrix for {0}'.format(dtype))"
   ]
  },
  {
   "cell_type": "code",
   "execution_count": 133,
   "id": "82369163-ef64-49e7-abb9-ab406289410c",
   "metadata": {},
   "outputs": [
    {
     "data": {
      "image/png": "[encoded data removed]",
      "text/plain": [
       "<Figure size 432x288 with 2 Axes>"
      ]
     },
     "metadata": {},
     "output_type": "display_data"
    }
   ],
   "source": [
    "plot_conf_matrix(confusion_matrix(y_test, y_hat), \"Test data\")"
   ]
  },
  {
   "cell_type": "code",
   "execution_count": 134,
   "id": "ba24de08-f068-4ce9-9517-714d961093c2",
   "metadata": {},
   "outputs": [
    {
     "data": {
      "image/png": "[encoded data removed]",
      "text/plain": [
       "<Figure size 432x288 with 1 Axes>"
      ]
     },
     "metadata": {},
     "output_type": "display_data"
    }
   ],
   "source": [
    "from sklearn import metrics\n",
    "from sklearn.metrics import roc_curve\n",
    "\n",
    "sns.set_style('darkgrid')\n",
    "\n",
    "y_pred_proba = rf.predict_proba(x_test)[::,1]\n",
    "fpr, tpr, _ = metrics.roc_curve(y_test,  y_pred_proba)\n",
    "auc = metrics.roc_auc_score(y_test, y_pred_proba)\n",
    "\n",
    "plt.title(\"ROC_AUC plot\\nRandomForestClassifier & Upsampling\", fontsize=14)\n",
    "plt.plot(fpr,tpr,label=\"auc=\"+str(auc))\n",
    "plt.legend(loc=4)\n",
    "plt.show()"
   ]
  },
  {
   "cell_type": "markdown",
   "id": "5ff216c8-b9c4-4b7a-89be-d6dc607770ad",
   "metadata": {},
   "source": [
    "# Predictions"
   ]
  },
  {
   "cell_type": "code",
   "execution_count": 137,
   "id": "795286fd-063f-4efb-a21c-40a410a8b64e",
   "metadata": {},
   "outputs": [
    {
     "data": {
      "text/plain": [
       "id                    0\n",
       "cnae3                 0\n",
       "provincia            27\n",
       "foundation_year       0\n",
       "engagement_metric     0\n",
       "no_of_services        0\n",
       "no_of_products        0\n",
       "amount_in_bank        0\n",
       "dtype: int64"
      ]
     },
     "execution_count": 137,
     "metadata": {},
     "output_type": "execute_result"
    }
   ],
   "source": [
    "test.isnull().sum()"
   ]
  },
  {
   "cell_type": "code",
   "execution_count": 138,
   "id": "bcc19cd9-577e-4ad8-abc0-d32d8fb91dda",
   "metadata": {},
   "outputs": [],
   "source": [
    "test['provincia'].fillna(\"00\", inplace=True)"
   ]
  },
  {
   "cell_type": "code",
   "execution_count": 139,
   "id": "c3df3bf1-1f2a-45e9-8e9c-8f19f4943fc6",
   "metadata": {},
   "outputs": [
    {
     "data": {
      "text/plain": [
       "id                   0\n",
       "cnae3                0\n",
       "provincia            0\n",
       "foundation_year      0\n",
       "engagement_metric    0\n",
       "no_of_services       0\n",
       "no_of_products       0\n",
       "amount_in_bank       0\n",
       "dtype: int64"
      ]
     },
     "execution_count": 139,
     "metadata": {},
     "output_type": "execute_result"
    }
   ],
   "source": [
    "test.isnull().sum()"
   ]
  },
  {
   "cell_type": "code",
   "execution_count": 140,
   "id": "40beb0d1-f7ee-4285-b141-c54dc51faac2",
   "metadata": {},
   "outputs": [],
   "source": [
    "#prediction on test data\n",
    "test_no_target = test.drop(columns=['id']) #droping from train so that df shapes match\n",
    "\n",
    "y_predicted = rf.predict(test_no_target)"
   ]
  },
  {
   "cell_type": "code",
   "execution_count": 141,
   "id": "c426ca70-966d-475f-a0b9-933a8e782ccf",
   "metadata": {},
   "outputs": [],
   "source": [
    "test_id = test['id']\n",
    "\n",
    "#concatenating\n",
    "predictions = pd.concat([test_id, pd.DataFrame(y_predicted)], axis=1)\n",
    "\n",
    "predictions['predictions'] = y_predicted\n",
    "\n",
    "predictions = predictions[['id', 'predictions']]"
   ]
  },
  {
   "cell_type": "code",
   "execution_count": 142,
   "id": "6a489c12-60c6-4281-84f6-6fa9dfd727c7",
   "metadata": {},
   "outputs": [
    {
     "data": {
      "text/plain": [
       "(2852, 2)"
      ]
     },
     "execution_count": 142,
     "metadata": {},
     "output_type": "execute_result"
    }
   ],
   "source": [
    "predictions.shape"
   ]
  },
  {
   "cell_type": "code",
   "execution_count": 143,
   "id": "3a6d9c96-bb55-41d7-bc4d-c80505b1c71c",
   "metadata": {},
   "outputs": [
    {
     "data": {
      "text/html": [
       "<div>\n",
       "<style scoped>\n",
       "    .dataframe tbody tr th:only-of-type {\n",
       "        vertical-align: middle;\n",
       "    }\n",
       "\n",
       "    .dataframe tbody tr th {\n",
       "        vertical-align: top;\n",
       "    }\n",
       "\n",
       "    .dataframe thead th {\n",
       "        text-align: right;\n",
       "    }\n",
       "</style>\n",
       "<table border=\"1\" class=\"dataframe\">\n",
       "  <thead>\n",
       "    <tr style=\"text-align: right;\">\n",
       "      <th></th>\n",
       "      <th>id</th>\n",
       "      <th>predictions</th>\n",
       "    </tr>\n",
       "  </thead>\n",
       "  <tbody>\n",
       "    <tr>\n",
       "      <th>0</th>\n",
       "      <td>458072</td>\n",
       "      <td>0</td>\n",
       "    </tr>\n",
       "    <tr>\n",
       "      <th>1</th>\n",
       "      <td>516331</td>\n",
       "      <td>0</td>\n",
       "    </tr>\n",
       "    <tr>\n",
       "      <th>2</th>\n",
       "      <td>3424</td>\n",
       "      <td>0</td>\n",
       "    </tr>\n",
       "    <tr>\n",
       "      <th>3</th>\n",
       "      <td>880645</td>\n",
       "      <td>0</td>\n",
       "    </tr>\n",
       "    <tr>\n",
       "      <th>4</th>\n",
       "      <td>31272</td>\n",
       "      <td>0</td>\n",
       "    </tr>\n",
       "  </tbody>\n",
       "</table>\n",
       "</div>"
      ],
      "text/plain": [
       "       id  predictions\n",
       "0  458072            0\n",
       "1  516331            0\n",
       "2    3424            0\n",
       "3  880645            0\n",
       "4   31272            0"
      ]
     },
     "execution_count": 143,
     "metadata": {},
     "output_type": "execute_result"
    }
   ],
   "source": [
    "predictions.head()"
   ]
  },
  {
   "cell_type": "code",
   "execution_count": 145,
   "id": "1661f114-d88b-45dc-b311-7b6fd2ac931a",
   "metadata": {},
   "outputs": [],
   "source": [
    "#exporting CSV file\n",
    "predictions.to_csv('emiliano_delia.txt', index=False, sep=';')"
   ]
  }
 ],
 "metadata": {
  "kernelspec": {
   "display_name": "Python 3 (ipykernel)",
   "language": "python",
   "name": "python3"
  },
  "language_info": {
   "codemirror_mode": {
    "name": "ipython",
    "version": 3
   },
   "file_extension": ".py",
   "mimetype": "text/x-python",
   "name": "python",
   "nbconvert_exporter": "python",
   "pygments_lexer": "ipython3",
   "version": "3.9.12"
  },
  "toc-autonumbering": false,
  "toc-showcode": false,
  "toc-showmarkdowntxt": true,
  "toc-showtags": true
 },
 "nbformat": 4,
 "nbformat_minor": 5
}
